{
 "cells": [
  {
   "cell_type": "markdown",
   "id": "d26de0e0",
   "metadata": {},
   "source": [
    "## Why Python?\n",
    "\n",
    "- Python is incredibly efficient: you can do more in fewer lines of code than other languages would need\n",
    "\n",
    "    - Your code will be easier to read, to debug and to extend\n",
    "\n",
    "    - Elegant syntax that often reads like English\n",
    "\n",
    "- Python is incredibly versatile and, for this reason, probably the most commonly required language in the job market.\n",
    "\n",
    "    - Most common language for Machine Learning\n",
    "\n",
    "- Python is quicker than R or MATLAB\n",
    "\n",
    "    - Still slower than C or C++, which are lower-level languages, but with much simpler syntax (with C-like performance enhancements using certain packages)\n",
    "\n",
    "- Python is very well documented\n",
    "\n",
    "- Python has a diverse community of programmers "
   ]
  },
  {
   "cell_type": "markdown",
   "id": "0f63f5b8",
   "metadata": {},
   "source": [
    "## Tools for the course\n",
    "\n",
    "- I recommend Visual Studio Code as Python's IDE (Integrated Development Environment). It's easier, works with other languages, and integrates with Github. \n",
    "\n",
    "- Install Python using this link: https://www.python.org/downloads/. Use the correct version for Windows or Mac\n",
    "\n",
    "- After you installed Python, install Visual Studio Code: https://code.visualstudio.com. It has a blue icon (not a purple one)\n",
    "\n",
    "- Inside VS Code, install the \"Python\" Extension, by Microsoft\n",
    "\n",
    "- Create a file in VS Code and save it with the extension .py or .ipynb \n"
   ]
  },
  {
   "cell_type": "markdown",
   "id": "67c306b1",
   "metadata": {},
   "source": [
    "If your Python IDE isn't working yet, please upload this Jupyter notebook in Google Colab and open it:\n",
    "\n",
    "https://colab.research.google.com"
   ]
  },
  {
   "cell_type": "markdown",
   "id": "b72cafe1",
   "metadata": {},
   "source": [
    "## Types of Python files\n",
    "\n",
    "There are two possible extensions for Python files:\n",
    "\n",
    "- .py: Python source file. Meant to  be used for scripts. Does not allow for embedded narrative or output.\n",
    "\n",
    "- .ipynb: Aka Jupyter Notebook. Allows to insert Markdown-formatted text and to embed outputs within the file. This will be the main format used within this course.\n",
    "\n",
    "\n",
    "There are quite a lot of Markdown references out there. Most of the time, what you need from Markdown will be in a simple Markdown cheat sheet (bullets, equation formatting, etc.). It doesn't replace Latex for long and complicated scientific \n",
    "\n",
    "work, but it can for short scientific reports. Markdown will not be the focus of this course."
   ]
  },
  {
   "cell_type": "code",
   "execution_count": 1,
   "id": "2d485c8d",
   "metadata": {},
   "outputs": [
    {
     "name": "stdout",
     "output_type": "stream",
     "text": [
      "Hello, World!\n"
     ]
    }
   ],
   "source": [
    "# Try to run the following code and check if Python is correctly installed.\n",
    "print(\"Hello, World!\")"
   ]
  },
  {
   "cell_type": "markdown",
   "id": "a8c3095f",
   "metadata": {},
   "source": [
    "You can also encapsulate your message within a *variable*.\n",
    "\n",
    "Mandatory rules for variables (otherwise Python will throw an error):\n",
    "- You may only START a variable name with letters from the alphabet: a-z, A-Z\n",
    "- Inside the variable name, you can use any of a-Z, A-Z, 0-9, or underscore\n",
    "- You cannot used reserved words (and, for, if, while etc.)\n",
    "\n",
    "Not doing this will yield you errors.\n",
    "Good practices.\n",
    "- Use meaningful variable names. You may remember what \"x\" is now but if you use the code a few weeks from now you'll probably forget\n"
   ]
  },
  {
   "cell_type": "code",
   "execution_count": null,
   "id": "67e737bf",
   "metadata": {},
   "outputs": [],
   "source": [
    "message = \"Hello world\"\n",
    "print(message)"
   ]
  },
  {
   "cell_type": "markdown",
   "id": "f7b80ed4",
   "metadata": {},
   "source": [
    "# 1: Common data structures in Python\n",
    "\n"
   ]
  },
  {
   "cell_type": "markdown",
   "id": "9b29c851",
   "metadata": {},
   "source": [
    "### 1.0. Booleans\n",
    "\n",
    "Admit only True or False as value. Possible operations: not, and, or, xor etc."
   ]
  },
  {
   "cell_type": "code",
   "execution_count": 7,
   "id": "94a4f7dc",
   "metadata": {},
   "outputs": [
    {
     "name": "stdout",
     "output_type": "stream",
     "text": [
      "False\n",
      "True\n"
     ]
    }
   ],
   "source": [
    "x = True\n",
    "y = False\n",
    "print(not(x))\n",
    "print(x and not(y))"
   ]
  },
  {
   "cell_type": "markdown",
   "id": "915cbfec",
   "metadata": {},
   "source": [
    "### 1.1. String.\n",
    "A string is a representation for text. \n",
    "Create a string by encapsulating with single or double quotation marks.\n"
   ]
  },
  {
   "cell_type": "code",
   "execution_count": null,
   "id": "b88461a5",
   "metadata": {},
   "outputs": [],
   "source": [
    "sentence = \"University of California, Santa Cruz\""
   ]
  },
  {
   "cell_type": "markdown",
   "id": "baaff08d",
   "metadata": {},
   "source": [
    "### 1.1.1. Associated functions"
   ]
  },
  {
   "cell_type": "markdown",
   "id": "f0f9a4cd",
   "metadata": {},
   "source": [
    "All pythonic objects, such as strings, lists, sets etc. have _methods_ associated to them. For most methods, you will call them by appending a call with parantheses as follows:"
   ]
  },
  {
   "cell_type": "code",
   "execution_count": null,
   "id": "df89eb61",
   "metadata": {},
   "outputs": [],
   "source": [
    "print(sentence.upper())\n",
    "print(sentence.lower())\n",
    "print(\"     This sentence used to have leading and trailing whitespace.   \".strip())"
   ]
  },
  {
   "cell_type": "markdown",
   "id": "73e6d14a",
   "metadata": {},
   "source": [
    "A few methods are so common across different Python objects that get special treatment, for compiling reasons. They are called in a slightly different way. For example, len() below:"
   ]
  },
  {
   "cell_type": "code",
   "execution_count": null,
   "id": "bb027d6b",
   "metadata": {},
   "outputs": [],
   "source": [
    "len(sentence)"
   ]
  },
  {
   "cell_type": "markdown",
   "id": "0496d597",
   "metadata": {},
   "source": [
    "The following is a quite powerful method to insert variables in strings, using the so-called f-strings."
   ]
  },
  {
   "cell_type": "code",
   "execution_count": null,
   "id": "eb3450e3",
   "metadata": {},
   "outputs": [],
   "source": [
    "city = \"Santa Cruz\"\n",
    "print(f\"I study at University of California, {city}\")\n",
    "other_city = \"Riverside\"\n",
    "print(f\"My brother studies at University of California, {other_city}\")"
   ]
  },
  {
   "cell_type": "markdown",
   "id": "3448c613",
   "metadata": {},
   "source": [
    "Inside strings, inserting a tab or an enter won't work. Use *escape characters* for this purpose. Examples\n",
    "- \\t: tab\n",
    "- \\n: newline\n",
    "You'll also need to escape the apostrophe if inside single quotation marks."
   ]
  },
  {
   "cell_type": "code",
   "execution_count": null,
   "id": "898737d6",
   "metadata": {},
   "outputs": [],
   "source": [
    "print(\"Welcome to Santa Cruz\")\n",
    "# Escape characters\n",
    "print(\"\\tWelcome to Santa Cruz\")\n",
    "print(\"To-do list: \\n 1. Email Pam Beesly \\n 2. Meet with Michael Scott\")\n",
    "print('It\\'s a shame that the Sharks lost yesterday.')\n",
    "# Splitting\n",
    "print(\"University of California, Santa Cruz\".split(\",\") )\n",
    "\n",
    "# Using sum and multiplication to join characters\n",
    "print(\"I've got the m\"+ \"o\"*5 + \"ves like Jagger\")"
   ]
  },
  {
   "cell_type": "markdown",
   "id": "3b4b8b3a",
   "metadata": {},
   "source": [
    "### 1.2. Numbers\n",
    "\n",
    "Python will store numbers in different ways. Common ways are integers and floats (floating-point numbers)"
   ]
  },
  {
   "cell_type": "code",
   "execution_count": null,
   "id": "1272d6cd",
   "metadata": {},
   "outputs": [],
   "source": [
    "print(2 + 2)\n",
    "print(3 + 4)\n",
    "print(5*6)\n",
    "print(2**5)\n",
    "print(22/7)\n",
    "print(int(22/7))"
   ]
  },
  {
   "cell_type": "code",
   "execution_count": null,
   "id": "83818f9a",
   "metadata": {},
   "outputs": [],
   "source": [
    "universe_age = 14_000_000_000\n",
    "print(universe_age)"
   ]
  },
  {
   "cell_type": "markdown",
   "id": "52a160c4",
   "metadata": {},
   "source": [
    "Python has powerful packages, such as Pandas and Numpy, for numeric calculations. We will talk about them in the following lectures."
   ]
  },
  {
   "cell_type": "markdown",
   "id": "4742e114",
   "metadata": {},
   "source": [
    "### 1.3. Lists\n",
    "\n",
    "A list is a collection of items in a particular order. You can put anything into a list. The items in your list don't need to be related in any particular way."
   ]
  },
  {
   "cell_type": "code",
   "execution_count": null,
   "id": "17704e5a",
   "metadata": {},
   "outputs": [],
   "source": [
    "griffins = [\"peter\", \"lois\", \"stewie\", \"meg\", \"chris\"]"
   ]
  },
  {
   "cell_type": "markdown",
   "id": "d7e31ac2",
   "metadata": {},
   "source": [
    "Access an elements in a list using its index.\n",
    "### In Python, the first element of a list has index 0! Don't forget this, as it's quite counterintuitive in the beginning"
   ]
  },
  {
   "cell_type": "code",
   "execution_count": null,
   "id": "f6935079",
   "metadata": {},
   "outputs": [],
   "source": [
    "print(griffins[0])\n",
    "print(griffins[1])"
   ]
  },
  {
   "cell_type": "markdown",
   "id": "9dda47b7",
   "metadata": {},
   "source": [
    "You can also iterate backwards. -1 will be the last item, -2 the one before the last and so on."
   ]
  },
  {
   "cell_type": "code",
   "execution_count": null,
   "id": "1c9e4842",
   "metadata": {},
   "outputs": [],
   "source": [
    "griffins[-1]"
   ]
  },
  {
   "cell_type": "markdown",
   "id": "6af9bb98",
   "metadata": {},
   "source": [
    "Several handy functions exist for lists. I cannot be exhaustive here. Some examples follow."
   ]
  },
  {
   "cell_type": "code",
   "execution_count": null,
   "id": "385adcd3",
   "metadata": {},
   "outputs": [],
   "source": [
    "griffins.append(\"brian\")\n",
    "print(griffins)\n",
    "print(griffins.index(\"meg\"))\n",
    "griffins2 = griffins.copy() # Creates a shallow (field-by-field) copy of your list\n",
    "print(griffins2)\n",
    "griffins2.pop(0) # Pop the element number 0 of your list\n",
    "print(griffins2)\n",
    "griffins.sort()\n",
    "print(griffins)\n",
    "griffins.remove(\"meg\")\n",
    "print(griffins)\n",
    "griffins.append(\"meg\")\n",
    "print(griffins)\n"
   ]
  },
  {
   "cell_type": "markdown",
   "id": "609e1db7",
   "metadata": {},
   "source": [
    "Notice that some operations in Python are performed in-place. \n",
    "Changes in place, such as \"append\" above, will change the original version of the variable in question.\n",
    "\n",
    "If the operation weren't performed in place, this isn't the case -- you only change a local copy of the variable and you are able to see the result. E.g. check the function sorted() below:"
   ]
  },
  {
   "cell_type": "code",
   "execution_count": null,
   "id": "1e8e5320",
   "metadata": {},
   "outputs": [],
   "source": [
    "print(sorted(griffins))\n",
    "griffins"
   ]
  },
  {
   "cell_type": "markdown",
   "id": "492bb52b",
   "metadata": {},
   "source": [
    "Conversely, \"sort\" sorts in-place."
   ]
  },
  {
   "cell_type": "code",
   "execution_count": null,
   "id": "57760927",
   "metadata": {},
   "outputs": [],
   "source": [
    "griffins.sort(reverse=True)\n",
    "print(griffins)"
   ]
  },
  {
   "cell_type": "code",
   "execution_count": null,
   "id": "ca0bd355",
   "metadata": {},
   "outputs": [],
   "source": [
    "print(griffins)\n",
    "griffins.reverse()\n",
    "print(griffins)"
   ]
  },
  {
   "cell_type": "markdown",
   "id": "2ae04058",
   "metadata": {},
   "source": [
    "Slicing a list: when you need a subset of a list."
   ]
  },
  {
   "cell_type": "code",
   "execution_count": null,
   "id": "b39bd3d5",
   "metadata": {},
   "outputs": [],
   "source": [
    "print(griffins)\n",
    "print(griffins[0:3])"
   ]
  },
  {
   "cell_type": "code",
   "execution_count": null,
   "id": "f902f22c",
   "metadata": {},
   "outputs": [],
   "source": [
    "print(list(range(1,5)))\n",
    "print(list(range(1,5)))"
   ]
  },
  {
   "cell_type": "markdown",
   "id": "05a6e9b3",
   "metadata": {},
   "source": [
    "#### IN-CLASS: Seeing the World: Think of at least five places in the world you'd like to visit.\n",
    "- Store the locations in a list. Make sure the list is not in alphabetical order.\n",
    "\n",
    "- Print your list in its original order. Don't worry about printing the list neatly; just print it as a raw Python list.\n",
    "\n",
    "- Use sorted() to print your list in alphabetical order without modifying the actual list.\n",
    "\n",
    "- Show that your list is still in its original order by printing it.\n",
    "\n",
    "- Use reverse() to change the order of your list again. Print the list to show it's back to its original order.\n",
    "\n",
    "- Use sort() to change your list so it's stored in alphabetical order. Print the list to show that its order has been changed."
   ]
  },
  {
   "cell_type": "markdown",
   "id": "6b7882d4",
   "metadata": {},
   "source": [
    "### 1.4. Sets\n",
    "\n",
    "A set is a collection of unique objects. It is thus a useful resource when you want to see what unique elements are there in a list or any given iterable."
   ]
  },
  {
   "cell_type": "code",
   "execution_count": null,
   "id": "d91b58ad",
   "metadata": {},
   "outputs": [],
   "source": [
    "word = \"banana\"\n",
    "set(word)"
   ]
  },
  {
   "cell_type": "code",
   "execution_count": null,
   "id": "987a4c7e",
   "metadata": {},
   "outputs": [],
   "source": [
    "last_f1_champions = [\"hamilton\", \"hamilton\", \"rosberg\", \"hamilton\",\"hamilton\", \"hamilton\", \"hamilton\", \"verstappen\", \"verstappen\", \"verstappen\"]\n",
    "last_f1_champions_set = set(last_f1_champions)\n",
    "last_f1_champions_set"
   ]
  },
  {
   "cell_type": "code",
   "execution_count": null,
   "id": "6554a7fb",
   "metadata": {},
   "outputs": [],
   "source": [
    "random_f1_drivers = last_f1_champions_set | {\"vettel\", \"leclerc\"}\n",
    "random_f1_drivers"
   ]
  },
  {
   "cell_type": "markdown",
   "id": "a490bef3",
   "metadata": {},
   "source": [
    "All the useful set operations (intersection, union, difference...) are implemented in Python. Set comprehensions also exist.\n"
   ]
  },
  {
   "cell_type": "markdown",
   "id": "2b61534e",
   "metadata": {},
   "source": [
    "## 1.5. Tuples\n",
    "\n",
    "Tuples work like lists that cannot change in size. They hold records: each item in the tuple holds the data for one field, and the position of the item gives its meaning. They're a wise choice for better clarity and performance in several cases.\n",
    "\n",
    "To create tuples, use parentheses and separate elements using commas."
   ]
  },
  {
   "cell_type": "code",
   "execution_count": null,
   "id": "611eeba7",
   "metadata": {},
   "outputs": [],
   "source": [
    "traveler_ids = [('USA', '31195855'), ('BRA', 'CE342567'), ('ESP', 'XDA205856')]\n",
    "\n",
    "for passport in sorted(traveler_ids):\n",
    "    print('%s/%s' % passport)\n",
    "    \n",
    "for country, _ in traveler_ids:\n",
    "    print(country)"
   ]
  },
  {
   "cell_type": "markdown",
   "id": "cea51d92",
   "metadata": {},
   "source": [
    "A cool thing: we can switch values of variabes easily in Python."
   ]
  },
  {
   "cell_type": "code",
   "execution_count": null,
   "id": "8152f10c",
   "metadata": {},
   "outputs": [],
   "source": [
    "a = 4\n",
    "b = 5\n",
    "a, b = b, a\n",
    "print(a)\n",
    "print(b)"
   ]
  },
  {
   "cell_type": "markdown",
   "id": "348ba57b",
   "metadata": {},
   "source": [
    "## 1.6. Dictionaries\n",
    "\n",
    "Dictionaries are a useful feature of Python and allow us to connect pieces of related information. They are a feature not present in some other languages (R, MATLAB). They provide a very neat way to store information that will come up handy very often."
   ]
  },
  {
   "cell_type": "code",
   "execution_count": 1,
   "id": "d1a9c813",
   "metadata": {},
   "outputs": [
    {
     "data": {
      "text/plain": [
       "555"
      ]
     },
     "execution_count": 1,
     "metadata": {},
     "output_type": "execute_result"
    }
   ],
   "source": [
    "# We can create dictionaries all at once\n",
    "phone_list = {\"john\": 555, \"mary\": 543, \"chris\": 333}\n",
    "phone_list[\"john\"]"
   ]
  },
  {
   "cell_type": "markdown",
   "id": "f258ddf6",
   "metadata": {},
   "source": [
    "Dictionaries can also have default values."
   ]
  },
  {
   "cell_type": "code",
   "execution_count": 2,
   "id": "b0d207ac",
   "metadata": {},
   "outputs": [
    {
     "data": {
      "text/plain": [
       "'No phone number found'"
      ]
     },
     "execution_count": 2,
     "metadata": {},
     "output_type": "execute_result"
    }
   ],
   "source": [
    "phone_list.get(\"ted\", \"No phone number found\")"
   ]
  },
  {
   "cell_type": "markdown",
   "id": "2119c5e2",
   "metadata": {},
   "source": [
    "Iterate across a dictionary using the following keys(), values(), or items() as iterators."
   ]
  },
  {
   "cell_type": "code",
   "execution_count": null,
   "id": "dee6e15e",
   "metadata": {},
   "outputs": [],
   "source": [
    "print(phone_list.keys())\n",
    "print(phone_list.values())\n",
    "print(phone_list.items())"
   ]
  },
  {
   "cell_type": "code",
   "execution_count": null,
   "id": "a9800912",
   "metadata": {},
   "outputs": [],
   "source": [
    "for name, number in phone_list.items():\n",
    "    print(f\"{name.title()}\\'s phone number is {number}\")"
   ]
  },
  {
   "cell_type": "markdown",
   "id": "0110ead5",
   "metadata": {},
   "source": [
    "Specialized versions of dictionaries also exist, such as defaultdict or OrderedDict. For further on these objects, please check \"Fluent Python\" or any online source.\n",
    "\n",
    "collections.Counter, for example, holds an integer count for each key."
   ]
  },
  {
   "cell_type": "code",
   "execution_count": null,
   "id": "6e1bb964",
   "metadata": {},
   "outputs": [],
   "source": [
    "wc_titles = [\"uruguay\", \"italy\", \"italy\", \"uruguay\", \"germany\", \"brazil\", \"brazil\", \n",
    "             \"england\", \"brazil\", \"germany\", \"argentina\", \"italy\", \n",
    "             \"argentina\", \"germany\", \"brazil\", \"france\", \"brazil\", \n",
    "             \"italy\", \"spain\", \"germany\", \"france\", \"argentina\"]\n",
    "\n",
    "import collections\n",
    "ct = collections.Counter(wc_titles)\n",
    "print(ct)"
   ]
  },
  {
   "cell_type": "markdown",
   "id": "13ba02cf",
   "metadata": {},
   "source": [
    "### IN-CLASS\n",
    "6-5. Rivers: Make a dictionary containing three major rivers and the country each river runs through. One key-value pair might be 'nile': 'egypt'.\n",
    "\n",
    "Use a loop to print a sentence about each river, such as The Nile runs through Egypt.\n",
    "\n",
    "Use a loop to print the name of each river included in the dictionary.\n",
    "\n",
    "Use a loop to print the name of each country included in the dictionary."
   ]
  },
  {
   "cell_type": "markdown",
   "id": "5f72f90c",
   "metadata": {},
   "source": [
    "# 2: Control flow\n",
    "\n",
    "Basic elements of control flow in Python:"
   ]
  },
  {
   "cell_type": "markdown",
   "id": "567cb581",
   "metadata": {},
   "source": [
    "## 2.1. For "
   ]
  },
  {
   "cell_type": "markdown",
   "id": "079c96d2",
   "metadata": {},
   "source": [
    "### 2.1.1. Looping in lists:\n",
    "\n",
    "You'll often want to run through all the elements in a list, performing the same operation with them.\n",
    "\n",
    "Loops in Python follow the pattern:\n",
    "for element in iterator\n",
    "    do something."
   ]
  },
  {
   "cell_type": "code",
   "execution_count": null,
   "id": "b13666e5",
   "metadata": {},
   "outputs": [],
   "source": [
    "for person in griffins:\n",
    "    print(\"Hi, my name is \" + person.title() + \" Griffin \\n\")"
   ]
  },
  {
   "cell_type": "markdown",
   "id": "41ef9775",
   "metadata": {},
   "source": [
    "### In Python, indentation (tabs) has meaning! It's mandatory to have a tab before \"do something\" above, otherwise your code will throw an error.\n",
    "\n",
    "### Be very organized with indentation while coding in Python."
   ]
  },
  {
   "cell_type": "code",
   "execution_count": null,
   "id": "01a4a651",
   "metadata": {},
   "outputs": [],
   "source": [
    "for person in griffins: # Do not forget the colon here either\n",
    "print(person.title() + \" Griffin \\n\")"
   ]
  },
  {
   "cell_type": "markdown",
   "id": "19c5acb3",
   "metadata": {},
   "source": [
    "Other objects that can split into components, such as strings, dictionaries, sets and tuples, are also iterators in Python."
   ]
  },
  {
   "cell_type": "code",
   "execution_count": null,
   "id": "71d5c8f0",
   "metadata": {},
   "outputs": [],
   "source": [
    "for letter in \"Slugs\":  \n",
    "    print(f\"Give me an {letter.upper()}\")"
   ]
  },
  {
   "cell_type": "code",
   "execution_count": null,
   "id": "4767eaa8",
   "metadata": {},
   "outputs": [],
   "source": [
    "squares = []\n",
    "for value in range(1,11):\n",
    "    square = value ** 2\n",
    "    squares.append(square)\n",
    "print(squares)"
   ]
  },
  {
   "cell_type": "markdown",
   "id": "768c37ce",
   "metadata": {},
   "source": [
    "#### Breaking the loop: break\n",
    "To bypass an iteration, use \"continue\" instead."
   ]
  },
  {
   "cell_type": "code",
   "execution_count": null,
   "id": "465dbe99",
   "metadata": {},
   "outputs": [],
   "source": [
    "debt = 1000\n",
    "interest = 0.05\n",
    "months = range(0,100)\n",
    "for month in months:\n",
    "    debt = debt * (1+interest)\n",
    "    if debt > 2000:\n",
    "        print(f\"Your debt is {debt} and too high. Please re-negotiate your rate.\")\n",
    "        break\n",
    "    print(f\"Your debt is {debt}.\")"
   ]
  },
  {
   "cell_type": "markdown",
   "id": "bfe0a0f2",
   "metadata": {},
   "source": [
    "#### While"
   ]
  },
  {
   "cell_type": "code",
   "execution_count": null,
   "id": "0d468050",
   "metadata": {},
   "outputs": [],
   "source": [
    "current_number = 0\n",
    "while current_number < 10:\n",
    "    current_number += 1\n",
    "    if current_number % 2 == 0:\n",
    "        continue # Can be used inside for as well\n",
    "    print(current_number)"
   ]
  },
  {
   "cell_type": "code",
   "execution_count": null,
   "id": "1efe3efd",
   "metadata": {},
   "outputs": [],
   "source": [
    "#### Be careful with while because you may create an infinite loop!\n",
    "# This loop runs forever!\n",
    "x = 1\n",
    "while x <= 5:\n",
    "    print(x)\n"
   ]
  },
  {
   "cell_type": "markdown",
   "id": "1e0ca60d",
   "metadata": {},
   "source": [
    "### 2.1.2. List comprehensions\n",
    "\n",
    "In Python, it is easy to create lists in a smart way. We can use for this purpose list comprehensions."
   ]
  },
  {
   "cell_type": "code",
   "execution_count": null,
   "id": "a202ddcf",
   "metadata": {},
   "outputs": [],
   "source": [
    "squares = [x**2 for x in range(0,10)]\n",
    "squares"
   ]
  },
  {
   "cell_type": "code",
   "execution_count": null,
   "id": "ffa8a57a",
   "metadata": {},
   "outputs": [],
   "source": [
    "squares = [x**2 for x in range(0,10) if x % 2 == 0]\n",
    "squares"
   ]
  },
  {
   "cell_type": "code",
   "execution_count": null,
   "id": "09d7f182",
   "metadata": {},
   "outputs": [],
   "source": [
    "numbers = [1, 2, 3, 4, 5]\n",
    "labels = [\"even\" if x % 2 == 0 else \"odd\" for x in numbers]\n",
    "labels"
   ]
  },
  {
   "cell_type": "code",
   "execution_count": null,
   "id": "425c5875",
   "metadata": {},
   "outputs": [],
   "source": [
    "# Use this when you want to iterate along two lists in tandem:\n",
    "list1 = [1, 2, 3]\n",
    "list2 = [4, 5, 6]\n",
    "summed = [x + y for x, y in zip(list1, list2)]\n",
    "summed"
   ]
  },
  {
   "cell_type": "markdown",
   "id": "ed1b300c",
   "metadata": {},
   "source": [
    "### 2.1.3. Dict comprehensions"
   ]
  },
  {
   "cell_type": "code",
   "execution_count": null,
   "id": "cf90732e",
   "metadata": {},
   "outputs": [],
   "source": [
    "pop_list = [218, 47, 332]\n",
    "countries_list = [\"Brazil\", \"Argentina\", \"USA\"]\n",
    "pop_dict = {country: pop for pop in pop_list for country in countries_list}\n",
    "pop_dict[\"Brazil\"]"
   ]
  },
  {
   "cell_type": "markdown",
   "id": "cea83ca8",
   "metadata": {},
   "source": [
    "## 2.2. If/else"
   ]
  },
  {
   "cell_type": "code",
   "execution_count": null,
   "id": "dc13727e",
   "metadata": {},
   "outputs": [],
   "source": [
    "cars = ['audi', 'bmw', 'subaru', 'toyota']\n",
    "for car in cars:\n",
    "    if car == 'bmw':\n",
    "        print(car.upper())\n",
    "    else:\n",
    "        print(car.title())"
   ]
  },
  {
   "cell_type": "code",
   "execution_count": null,
   "id": "bcfa6443",
   "metadata": {},
   "outputs": [],
   "source": [
    "car = \"audi\"\n",
    "if car in cars:\n",
    "    print(f\"We carry {car} in our dealership.\")\n",
    "elif car in [\"honda\", \"hyundai\"]:\n",
    "    print(f\"We don't carry {car} in our dealership now, but we will in the future.\")\n",
    "else:\n",
    "    print(f\"We don't carry {car} in our dealership.\")"
   ]
  },
  {
   "cell_type": "code",
   "execution_count": null,
   "id": "549fe837",
   "metadata": {},
   "outputs": [],
   "source": [
    "age = 19\n",
    "if age >= 18:\n",
    "    print(\"You are old enough to vote!\") "
   ]
  },
  {
   "cell_type": "markdown",
   "id": "c071532b",
   "metadata": {},
   "source": [
    "### IN-CLASS\n",
    "\n",
    "5-4. Alien Colors \\#2: Choose a color for an alien as you did in Exercise 5-3, and write an if-else chain.\n",
    "\n",
    "- If the alien's color is green, print a statement that the player just earned 5 points for shooting the alien.\n",
    "\n",
    "- If the alien's color isn't green, print a statement that the player just earned 10 points.\n",
    "\n",
    "- Write one version of this program that runs the if block and another that runs the else block."
   ]
  },
  {
   "cell_type": "markdown",
   "id": "3092dccb",
   "metadata": {},
   "source": [
    "# 3: Defining a function\n",
    "\n",
    "A functions are named blocks of code in Python designed to do one specific job. When you want to perform a particular task that you've defined in a function, you just call it. If you need to perform that task multiple times throughout your program, you don't need to type the code for the same task again and again. \n",
    "\n",
    "Creating functions in Python allow you to modularize your code, thus improving its readability.\n",
    "\n",
    "If you are ever copy-pasting your code, or making minor modifications in it and then re-running it, consider modularizing it using functions."
   ]
  },
  {
   "cell_type": "code",
   "execution_count": 2,
   "id": "7a130671",
   "metadata": {},
   "outputs": [
    {
     "name": "stdout",
     "output_type": "stream",
     "text": [
      "Hello, Jesse!\n",
      "Hello, Monica!\n"
     ]
    }
   ],
   "source": [
    "def greet_user(username):\n",
    "    print(f\"Hello, {username.title()}!\") # Indenting is mandatory here!\n",
    "greet_user('jesse')\n",
    "greet_user(\"Monica\")"
   ]
  },
  {
   "cell_type": "markdown",
   "id": "919a0094",
   "metadata": {},
   "source": [
    "- Giving a default value to a parameter\n",
    "\n",
    "- Using keyword arguments allows you to change the order "
   ]
  },
  {
   "cell_type": "code",
   "execution_count": 5,
   "id": "0b09a63a",
   "metadata": {},
   "outputs": [
    {
     "name": "stdout",
     "output_type": "stream",
     "text": [
      "\n",
      "I have a dog.\n",
      "My dog's name is Willie.\n",
      "\n",
      "I have a lion.\n",
      "My lion's name is Simba.\n",
      "\n",
      "I have a cat.\n",
      "My cat's name is Bobby.\n"
     ]
    }
   ],
   "source": [
    "def describe_pet(pet_name, animal_type='dog'):\n",
    "    print(f\"\\nI have a {animal_type}.\")\n",
    "    print(f\"My {animal_type}'s name is {pet_name.title()}.\")\n",
    "\n",
    "describe_pet('willie')\n",
    "describe_pet('simba', \"lion\")\n",
    "describe_pet(animal_type=\"cat\", pet_name='bobby')"
   ]
  },
  {
   "cell_type": "markdown",
   "id": "de13b23a",
   "metadata": {},
   "source": [
    "## 3.1. Recursion\n",
    "\n",
    "A function may also call itself. Below, an example of recursion:"
   ]
  },
  {
   "cell_type": "code",
   "execution_count": null,
   "id": "8323fbd2",
   "metadata": {},
   "outputs": [],
   "source": [
    "def fibonacci(num):\n",
    "    if num == 1:\n",
    "        return 1\n",
    "    elif num == 2:\n",
    "        return 1\n",
    "    else:\n",
    "        return fibonacci(num-1) + fibonacci(num-2)\n",
    "\n",
    "fibonacci(8)"
   ]
  },
  {
   "cell_type": "markdown",
   "id": "bf95c46a",
   "metadata": {},
   "source": [
    "## 3.2. Passing an arbitrary number of arguments"
   ]
  },
  {
   "cell_type": "code",
   "execution_count": 6,
   "id": "713ce340",
   "metadata": {},
   "outputs": [
    {
     "name": "stdout",
     "output_type": "stream",
     "text": [
      "\n",
      "Making a pizza with the following toppings:\n",
      "- pepperoni\n",
      "\n",
      "Making a pizza with the following toppings:\n",
      "- mushrooms\n",
      "- green peppers\n",
      "- extra cheese\n"
     ]
    }
   ],
   "source": [
    "def make_pizza(*toppings):\n",
    "    print(\"\\nMaking a pizza with the following toppings:\")\n",
    "    for topping in toppings:\n",
    "        print(f\"- {topping}\")\n",
    "\n",
    "make_pizza('pepperoni')\n",
    "make_pizza('mushrooms', 'green peppers', 'extra cheese')"
   ]
  },
  {
   "cell_type": "markdown",
   "id": "e01dd113",
   "metadata": {},
   "source": [
    "# 4. Exception handling: the try/except block\n",
    "\n",
    "Whenever an error occurs that makes Python unsure of what to do next, it creates an exception object. If you create code that handles the exception, the program will continue running. If you don't, the program will halt and show an error message.\n",
    "\n",
    "Instead of tracebacks, which can be confusing to users, you can use try/catch blocks to handle exceptions in a more friendly way to users.\n",
    "\n",
    "Be careful with the try/catch block because it can hide errors in your code. Use it wisely.\n"
   ]
  },
  {
   "cell_type": "code",
   "execution_count": 7,
   "id": "351c2c6c",
   "metadata": {},
   "outputs": [
    {
     "ename": "ZeroDivisionError",
     "evalue": "division by zero",
     "output_type": "error",
     "traceback": [
      "\u001b[0;31m---------------------------------------------------------------------------\u001b[0m",
      "\u001b[0;31mZeroDivisionError\u001b[0m                         Traceback (most recent call last)",
      "Cell \u001b[0;32mIn[7], line 1\u001b[0m\n\u001b[0;32m----> 1\u001b[0m \u001b[38;5;28mprint\u001b[39m(\u001b[38;5;241;43m5\u001b[39;49m\u001b[38;5;241;43m/\u001b[39;49m\u001b[38;5;241;43m0\u001b[39;49m)\n",
      "\u001b[0;31mZeroDivisionError\u001b[0m: division by zero"
     ]
    }
   ],
   "source": [
    "print(5/0)"
   ]
  },
  {
   "cell_type": "code",
   "execution_count": 10,
   "id": "89e4e39d",
   "metadata": {},
   "outputs": [
    {
     "data": {
      "text/plain": [
       "\"You can't divide by zero!\""
      ]
     },
     "execution_count": 10,
     "metadata": {},
     "output_type": "execute_result"
    }
   ],
   "source": [
    "def division(a, b):\n",
    "    try:\n",
    "        return a/b\n",
    "    except ZeroDivisionError:\n",
    "        return \"You can't divide by zero!\"\n",
    "division(5,0)"
   ]
  },
  {
   "cell_type": "markdown",
   "id": "875f5612",
   "metadata": {},
   "source": [
    "### IN-CLASS.\n",
    "\n",
    "8-5. Cities: Write a function called describe_city() that accepts the name of\n",
    "a city and its country. The function should print a simple sentence, such as\n",
    "Reykjavik is in Iceland. Give the parameter for the country a default value.\n",
    "Call your function for three different cities, at least one of which is not in the\n",
    "default country."
   ]
  },
  {
   "cell_type": "code",
   "execution_count": 14,
   "id": "7c461e46",
   "metadata": {},
   "outputs": [
    {
     "name": "stdout",
     "output_type": "stream",
     "text": [
      "\n",
      "The name of my city is Santa Cruz.\n",
      "The Santa Cruz is located in Usa.\n",
      "\n",
      "The name of my city is Rome.\n",
      "The Rome is located in Italy.\n"
     ]
    }
   ],
   "source": [
    "def describe_city(city_name, country_name=\"USA\"):\n",
    "    print(f\"\\nThe name of my city is {city_name}.\")\n",
    "    print(f\"The {city_name} is located in {country_name.title()}.\")\n",
    "\n",
    "describe_city('Santa Cruz')\n",
    "describe_city('Rome', \"Italy\")"
   ]
  },
  {
   "cell_type": "markdown",
   "id": "55023ece",
   "metadata": {},
   "source": []
  }
 ],
 "metadata": {
  "kernelspec": {
   "display_name": "Python 3 (ipykernel)",
   "language": "python",
   "name": "python3"
  },
  "language_info": {
   "codemirror_mode": {
    "name": "ipython",
    "version": 3
   },
   "file_extension": ".py",
   "mimetype": "text/x-python",
   "name": "python",
   "nbconvert_exporter": "python",
   "pygments_lexer": "ipython3",
   "version": "3.9.16"
  }
 },
 "nbformat": 4,
 "nbformat_minor": 5
}
