{
 "cells": [
  {
   "cell_type": "markdown",
   "metadata": {},
   "source": [
    "## Lecture 6: Git and GitHub"
   ]
  },
  {
   "cell_type": "markdown",
   "metadata": {},
   "source": [
    "## 6.1. What is Git?\n",
    "\n",
    " What is Git?\n",
    " \n",
    "- It's a free and open source version control system\n",
    "\n",
    "What is version control or source control?\n",
    "\n",
    "- The management of changes to documents, computer programs, large web sites, and other collections of information. It is concerned with keeping track of files over time and not very different to backing up.\n",
    "\n",
    "What is GitHub?\n",
    "\n",
    "- A website that hosts a copy of your code and your repositories online.\n",
    "\n",
    "- Github also facilitates cooperation among programmers and tracking of parallel versions of a code base.\n",
    "\n",
    "- Github is also the main platform to host code portfolios, for example, for data scientists or software engineers.\n",
    "\n",
    "<< Open sample Github page >>"
   ]
  },
  {
   "cell_type": "markdown",
   "metadata": {},
   "source": [
    "Install Git following the steps here:\n",
    "\n",
    "https://git-scm.com/downloads"
   ]
  },
  {
   "attachments": {
    "image.png": {
     "image/png": "[encoded data removed]"
    }
   },
   "cell_type": "markdown",
   "metadata": {},
   "source": [
    "## 6.2. Case 1: Upload a folder in your computer to be a Github repository\n",
    "\n",
    "1. Initialize a folder at File > Open Folder.\n",
    "\n",
    "2. Click at the button shown (Source Control) to initialize repository. \n",
    "![image.png](attachment:image.png)\n",
    "\n",
    "Look that under \"U\" are listed the untracked files. If you want to add them, click the \"+\" button.\n",
    "\n",
    "To commit your changes: "
   ]
  },
  {
   "cell_type": "code",
   "execution_count": null,
   "metadata": {
    "vscode": {
     "languageId": "plaintext"
    }
   },
   "outputs": [],
   "source": []
  },
  {
   "cell_type": "markdown",
   "metadata": {
    "vscode": {
     "languageId": "plaintext"
    }
   },
   "source": [
    "## IN-CLASS: \n",
    "Create a Github account."
   ]
  },
  {
   "cell_type": "markdown",
   "metadata": {},
   "source": [
    "Integrating GitHub into VS Code:\n"
   ]
  },
  {
   "cell_type": "markdown",
   "metadata": {},
   "source": []
  }
 ],
 "metadata": {
  "language_info": {
   "name": "python"
  }
 },
 "nbformat": 4,
 "nbformat_minor": 2
}
