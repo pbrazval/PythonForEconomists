{
 "cells": [
  {
   "cell_type": "markdown",
   "id": "ba1f6fe7",
   "metadata": {},
   "source": [
    "# Lecture 2: Pandas"
   ]
  },
  {
   "cell_type": "markdown",
   "id": "cc4df2d2",
   "metadata": {},
   "source": [
    "Packages I'll introduce today:\n",
    "- pandas\n",
    "- numpy\n",
    "- pickle\n",
    "- fredapi\n",
    "- yfinance\n",
    "- pandas_datareader"
   ]
  },
  {
   "cell_type": "markdown",
   "id": "928060a1",
   "metadata": {},
   "source": [
    "For data science-related activities, you will need Pandas and Numpy.\n",
    "\n",
    "- Numpy is a package specialized in scientific computing, allowing you to perform efficient operations with arrays (just like MATLAB, whose name comes from Matrix Laboratory)\n",
    "\n",
    "- Pandas contains all sorts of dataframe-related operations, so that you don't miss R or Tidyverse.\n",
    "\n",
    "Pandas and Numpy are the bread and butter for data cleaning in R. Together with other packages, such as statsmodels for regressions, they allow you to perform your data science projects in a breeze."
   ]
  },
  {
   "cell_type": "markdown",
   "id": "c6aeb6e5",
   "metadata": {},
   "source": [
    "#### I highly recommend working side-by-side with a cheatsheet for Pandas and Numpy in the beginning, as doing so will speed up your learning of the most common commands."
   ]
  },
  {
   "cell_type": "markdown",
   "id": "f13d1c45",
   "metadata": {},
   "source": [
    "Every time you work with a package, you need to import it."
   ]
  },
  {
   "cell_type": "code",
   "execution_count": 2,
   "id": "6ade1635",
   "metadata": {},
   "outputs": [
    {
     "name": "stderr",
     "output_type": "stream",
     "text": [
      "/Users/pedrovallocci/opt/anaconda3/lib/python3.9/site-packages/pandas/core/arrays/masked.py:60: UserWarning: Pandas requires version '1.3.6' or newer of 'bottleneck' (version '1.3.5' currently installed).\n",
      "  from pandas.core import (\n",
      "/var/folders/82/qc43_tjd601__84ds5cl2fyw0000gn/T/ipykernel_1770/1190669721.py:1: DeprecationWarning: \n",
      "Pyarrow will become a required dependency of pandas in the next major release of pandas (pandas 3.0),\n",
      "(to allow more performant data types, such as the Arrow string type, and better interoperability with other libraries)\n",
      "but was not found to be installed on your system.\n",
      "If this would cause problems for you,\n",
      "please provide us feedback at https://github.com/pandas-dev/pandas/issues/54466\n",
      "        \n",
      "  import pandas as pd # Pandas-owned fcns will have the pd. prefix from now on.\n"
     ]
    }
   ],
   "source": [
    "import pandas as pd # Pandas-owned fcns will have the pd. prefix from now on.\n",
    "import numpy as np"
   ]
  },
  {
   "cell_type": "markdown",
   "id": "0a11ecae",
   "metadata": {},
   "source": [
    "If Pandas is not installed in your Conda, you can do the following.\n",
    "\n",
    "** Show how to do it in the terminal for the PY files as well."
   ]
  },
  {
   "cell_type": "code",
   "execution_count": 3,
   "id": "44d62b4f",
   "metadata": {},
   "outputs": [
    {
     "name": "stdout",
     "output_type": "stream",
     "text": [
      "Requirement already satisfied: pandas in /Users/pedrovallocci/opt/anaconda3/lib/python3.9/site-packages (2.2.0)\n",
      "Requirement already satisfied: numpy<2,>=1.22.4 in /Users/pedrovallocci/opt/anaconda3/lib/python3.9/site-packages (from pandas) (1.22.4)\n",
      "Requirement already satisfied: python-dateutil>=2.8.2 in /Users/pedrovallocci/opt/anaconda3/lib/python3.9/site-packages (from pandas) (2.8.2)\n",
      "Requirement already satisfied: pytz>=2020.1 in /Users/pedrovallocci/opt/anaconda3/lib/python3.9/site-packages (from pandas) (2023.3.post1)\n",
      "Requirement already satisfied: tzdata>=2022.7 in /Users/pedrovallocci/opt/anaconda3/lib/python3.9/site-packages (from pandas) (2023.4)\n",
      "Requirement already satisfied: six>=1.5 in /Users/pedrovallocci/opt/anaconda3/lib/python3.9/site-packages (from python-dateutil>=2.8.2->pandas) (1.16.0)\n",
      "Note: you may need to restart the kernel to use updated packages.\n"
     ]
    }
   ],
   "source": [
    "%pip install pandas"
   ]
  },
  {
   "cell_type": "markdown",
   "id": "e33f2497",
   "metadata": {},
   "source": [
    "## 2.1. Creating a dataframe\n",
    "\n",
    "In Data Science, we will be wrangling data frames all the time. You can create a df from scratch using the following command:"
   ]
  },
  {
   "cell_type": "code",
   "execution_count": 4,
   "id": "a361b9ec",
   "metadata": {},
   "outputs": [
    {
     "name": "stdout",
     "output_type": "stream",
     "text": [
      "   A   B\n",
      "0  1  10\n",
      "1  2  11\n",
      "2  3  12\n",
      "3  4  13\n"
     ]
    }
   ],
   "source": [
    "d1 = pd.DataFrame({'A':[1,2,3,4],'B':[10,11,12,13]})\n",
    "print(d1)"
   ]
  },
  {
   "cell_type": "markdown",
   "id": "3b7a0953",
   "metadata": {},
   "source": [
    "Each column is a Pandas Series. A Pandas series is designed to work similarly to a dictionary in many ways.\n"
   ]
  },
  {
   "cell_type": "code",
   "execution_count": 5,
   "id": "96ed97d2",
   "metadata": {},
   "outputs": [
    {
     "data": {
      "text/plain": [
       "0    1\n",
       "1    2\n",
       "2    3\n",
       "3    4\n",
       "Name: A, dtype: int64"
      ]
     },
     "execution_count": 5,
     "metadata": {},
     "output_type": "execute_result"
    }
   ],
   "source": [
    "d1['A']"
   ]
  },
  {
   "cell_type": "code",
   "execution_count": 6,
   "id": "6eb1c38b",
   "metadata": {},
   "outputs": [
    {
     "name": "stdout",
     "output_type": "stream",
     "text": [
      "<class 'pandas.core.series.Series'>\n"
     ]
    }
   ],
   "source": [
    "print(type(d1['A']))"
   ]
  },
  {
   "cell_type": "markdown",
   "id": "41c59b9b",
   "metadata": {},
   "source": [
    "Often, we will use pre-existing datasets. That's how we read data from a CSV file:"
   ]
  },
  {
   "cell_type": "code",
   "execution_count": 7,
   "id": "16c85ce9",
   "metadata": {},
   "outputs": [],
   "source": [
    "btc = pd.read_csv('BTC_USD.csv')"
   ]
  },
  {
   "cell_type": "markdown",
   "id": "e403e2c4",
   "metadata": {},
   "source": [
    "Similarly, there exist methods to read data from other sources, such as SQL databases, Excel files, etc.\n",
    "For example, pd.read_sql() and pd.read_excel()"
   ]
  },
  {
   "cell_type": "markdown",
   "id": "ad0cc3fc",
   "metadata": {},
   "source": [
    "## 2.2. Looking at the data.\n",
    "\n",
    "\"head\" gives you a glimpse on the first n (default 5) rows of data."
   ]
  },
  {
   "cell_type": "code",
   "execution_count": 8,
   "id": "9197addd",
   "metadata": {},
   "outputs": [
    {
     "data": {
      "text/plain": [
       "<bound method NDFrame.head of             Date          Open          High           Low         Close  \\\n",
       "0     2014-09-17    465.864014    468.174011    452.421997    457.334015   \n",
       "1     2014-09-18    456.859985    456.859985    413.104004    424.440002   \n",
       "2     2014-09-19    424.102997    427.834991    384.532013    394.795990   \n",
       "3     2014-09-20    394.673004    423.295990    389.882996    408.903992   \n",
       "4     2014-09-21    408.084991    412.425995    393.181000    398.821014   \n",
       "...          ...           ...           ...           ...           ...   \n",
       "3480  2024-03-28  69452.773438  71546.023438  68895.507813  70744.953125   \n",
       "3481  2024-03-29  70744.796875  70913.093750  69076.656250  69892.828125   \n",
       "3482  2024-03-30  69893.445313  70355.492188  69601.062500  69645.304688   \n",
       "3483  2024-03-31           NaN           NaN           NaN           NaN   \n",
       "3484  2024-04-01  71312.171875  71312.171875  70948.109375  71143.296875   \n",
       "\n",
       "         Adj Close        Volume  \n",
       "0       457.334015  2.105680e+07  \n",
       "1       424.440002  3.448320e+07  \n",
       "2       394.795990  3.791970e+07  \n",
       "3       408.903992  3.686360e+07  \n",
       "4       398.821014  2.658010e+07  \n",
       "...            ...           ...  \n",
       "3480  70744.953125  3.437490e+10  \n",
       "3481  69892.828125  2.523085e+10  \n",
       "3482  69645.304688  1.713024e+10  \n",
       "3483           NaN           NaN  \n",
       "3484  71143.296875  2.036216e+10  \n",
       "\n",
       "[3485 rows x 7 columns]>"
      ]
     },
     "execution_count": 8,
     "metadata": {},
     "output_type": "execute_result"
    }
   ],
   "source": [
    "# Having a glimpse on the data\n",
    "btc.head"
   ]
  },
  {
   "cell_type": "code",
   "execution_count": 9,
   "id": "fb13b038",
   "metadata": {},
   "outputs": [
    {
     "data": {
      "text/plain": [
       "Index(['Date', 'Open', 'High', 'Low', 'Close', 'Adj Close', 'Volume'], dtype='object')"
      ]
     },
     "execution_count": 9,
     "metadata": {},
     "output_type": "execute_result"
    }
   ],
   "source": [
    "btc.columns"
   ]
  },
  {
   "cell_type": "code",
   "execution_count": 10,
   "id": "20123fef",
   "metadata": {},
   "outputs": [
    {
     "data": {
      "text/plain": [
       "(3485, 7)"
      ]
     },
     "execution_count": 10,
     "metadata": {},
     "output_type": "execute_result"
    }
   ],
   "source": [
    "# Checking shape of data\n",
    "btc.shape"
   ]
  },
  {
   "cell_type": "markdown",
   "id": "54428634",
   "metadata": {},
   "source": [
    "In Pandas, you can set one or more columns as the index of a DataFrame. \n",
    "This is useful when you want to locate a particular row by its index quickly, or to perform joins between two DataFrames more efficiently."
   ]
  },
  {
   "cell_type": "code",
   "execution_count": 11,
   "id": "9d4e0b27",
   "metadata": {},
   "outputs": [
    {
     "name": "stdout",
     "output_type": "stream",
     "text": [
      "                  Open        High         Low       Close   Adj Close  \\\n",
      "Date                                                                     \n",
      "2014-09-17  465.864014  468.174011  452.421997  457.334015  457.334015   \n",
      "2014-09-18  456.859985  456.859985  413.104004  424.440002  424.440002   \n",
      "2014-09-19  424.102997  427.834991  384.532013  394.795990  394.795990   \n",
      "2014-09-20  394.673004  423.295990  389.882996  408.903992  408.903992   \n",
      "2014-09-21  408.084991  412.425995  393.181000  398.821014  398.821014   \n",
      "\n",
      "                Volume  \n",
      "Date                    \n",
      "2014-09-17  21056800.0  \n",
      "2014-09-18  34483200.0  \n",
      "2014-09-19  37919700.0  \n",
      "2014-09-20  36863600.0  \n",
      "2014-09-21  26580100.0  \n"
     ]
    }
   ],
   "source": [
    "btc2 = btc.copy()\n",
    "btc2.set_index('Date', inplace=True)\n",
    "print(btc2.head())"
   ]
  },
  {
   "cell_type": "code",
   "execution_count": 12,
   "id": "b4a9cc01",
   "metadata": {},
   "outputs": [
    {
     "data": {
      "text/plain": [
       "Date\n",
       "2019-01-01    3843.520020\n",
       "2019-01-02    3943.409424\n",
       "2019-01-03    3836.741211\n",
       "2019-01-04    3857.717529\n",
       "2019-01-05    3845.194580\n",
       "2019-01-06    4076.632568\n",
       "2019-01-07    4025.248291\n",
       "2019-01-08    4030.847900\n",
       "2019-01-09    4035.296387\n",
       "2019-01-10    3678.924561\n",
       "Name: Close, dtype: float64"
      ]
     },
     "execution_count": 12,
     "metadata": {},
     "output_type": "execute_result"
    }
   ],
   "source": [
    "btc2['Close']['2019-01-01':'2019-01-10']"
   ]
  },
  {
   "cell_type": "markdown",
   "id": "79dbfc65",
   "metadata": {},
   "source": [
    "Before running regressions, it is useful to take a look at descriptive statistics for the data, which can hint to possibly unbalanced covariates."
   ]
  },
  {
   "cell_type": "code",
   "execution_count": 13,
   "id": "db774161",
   "metadata": {},
   "outputs": [
    {
     "data": {
      "text/html": [
       "<div>\n",
       "<style scoped>\n",
       "    .dataframe tbody tr th:only-of-type {\n",
       "        vertical-align: middle;\n",
       "    }\n",
       "\n",
       "    .dataframe tbody tr th {\n",
       "        vertical-align: top;\n",
       "    }\n",
       "\n",
       "    .dataframe thead th {\n",
       "        text-align: right;\n",
       "    }\n",
       "</style>\n",
       "<table border=\"1\" class=\"dataframe\">\n",
       "  <thead>\n",
       "    <tr style=\"text-align: right;\">\n",
       "      <th></th>\n",
       "      <th>Open</th>\n",
       "      <th>High</th>\n",
       "      <th>Low</th>\n",
       "      <th>Close</th>\n",
       "      <th>Adj Close</th>\n",
       "      <th>Volume</th>\n",
       "    </tr>\n",
       "  </thead>\n",
       "  <tbody>\n",
       "    <tr>\n",
       "      <th>count</th>\n",
       "      <td>3484.000000</td>\n",
       "      <td>3484.000000</td>\n",
       "      <td>3484.000000</td>\n",
       "      <td>3484.000000</td>\n",
       "      <td>3484.000000</td>\n",
       "      <td>3.484000e+03</td>\n",
       "    </tr>\n",
       "    <tr>\n",
       "      <th>mean</th>\n",
       "      <td>15583.009558</td>\n",
       "      <td>15948.888058</td>\n",
       "      <td>15196.252985</td>\n",
       "      <td>15601.563773</td>\n",
       "      <td>15601.563773</td>\n",
       "      <td>1.700749e+10</td>\n",
       "    </tr>\n",
       "    <tr>\n",
       "      <th>std</th>\n",
       "      <td>17218.712010</td>\n",
       "      <td>17636.923366</td>\n",
       "      <td>16768.488541</td>\n",
       "      <td>17238.450545</td>\n",
       "      <td>17238.450545</td>\n",
       "      <td>1.926946e+10</td>\n",
       "    </tr>\n",
       "    <tr>\n",
       "      <th>min</th>\n",
       "      <td>176.897003</td>\n",
       "      <td>211.731003</td>\n",
       "      <td>171.509995</td>\n",
       "      <td>178.102997</td>\n",
       "      <td>178.102997</td>\n",
       "      <td>5.914570e+06</td>\n",
       "    </tr>\n",
       "    <tr>\n",
       "      <th>25%</th>\n",
       "      <td>994.657760</td>\n",
       "      <td>1010.955002</td>\n",
       "      <td>967.731247</td>\n",
       "      <td>997.339508</td>\n",
       "      <td>997.339508</td>\n",
       "      <td>2.009653e+08</td>\n",
       "    </tr>\n",
       "    <tr>\n",
       "      <th>50%</th>\n",
       "      <td>8598.533692</td>\n",
       "      <td>8755.779297</td>\n",
       "      <td>8325.447265</td>\n",
       "      <td>8598.909179</td>\n",
       "      <td>8598.909179</td>\n",
       "      <td>1.267487e+10</td>\n",
       "    </tr>\n",
       "    <tr>\n",
       "      <th>75%</th>\n",
       "      <td>26476.076660</td>\n",
       "      <td>26800.184082</td>\n",
       "      <td>26094.678711</td>\n",
       "      <td>26487.335449</td>\n",
       "      <td>26487.335449</td>\n",
       "      <td>2.731887e+10</td>\n",
       "    </tr>\n",
       "    <tr>\n",
       "      <th>max</th>\n",
       "      <td>73079.375000</td>\n",
       "      <td>73750.070313</td>\n",
       "      <td>71334.093750</td>\n",
       "      <td>73083.500000</td>\n",
       "      <td>73083.500000</td>\n",
       "      <td>3.509679e+11</td>\n",
       "    </tr>\n",
       "  </tbody>\n",
       "</table>\n",
       "</div>"
      ],
      "text/plain": [
       "               Open          High           Low         Close     Adj Close  \\\n",
       "count   3484.000000   3484.000000   3484.000000   3484.000000   3484.000000   \n",
       "mean   15583.009558  15948.888058  15196.252985  15601.563773  15601.563773   \n",
       "std    17218.712010  17636.923366  16768.488541  17238.450545  17238.450545   \n",
       "min      176.897003    211.731003    171.509995    178.102997    178.102997   \n",
       "25%      994.657760   1010.955002    967.731247    997.339508    997.339508   \n",
       "50%     8598.533692   8755.779297   8325.447265   8598.909179   8598.909179   \n",
       "75%    26476.076660  26800.184082  26094.678711  26487.335449  26487.335449   \n",
       "max    73079.375000  73750.070313  71334.093750  73083.500000  73083.500000   \n",
       "\n",
       "             Volume  \n",
       "count  3.484000e+03  \n",
       "mean   1.700749e+10  \n",
       "std    1.926946e+10  \n",
       "min    5.914570e+06  \n",
       "25%    2.009653e+08  \n",
       "50%    1.267487e+10  \n",
       "75%    2.731887e+10  \n",
       "max    3.509679e+11  "
      ]
     },
     "execution_count": 13,
     "metadata": {},
     "output_type": "execute_result"
    }
   ],
   "source": [
    "btc.describe()"
   ]
  },
  {
   "cell_type": "markdown",
   "id": "4ebaa4e6",
   "metadata": {},
   "source": [
    "## 2.3. Filtering data\n",
    "\n",
    "There are several methods to filter data in Pandas. A possible way is to filter rows and columns by their indices. To do so, use `iloc`. Notice that you open *brackets*, and not parentheses, when using `iloc`. "
   ]
  },
  {
   "cell_type": "code",
   "execution_count": 14,
   "id": "b512713f",
   "metadata": {},
   "outputs": [
    {
     "data": {
      "text/html": [
       "<div>\n",
       "<style scoped>\n",
       "    .dataframe tbody tr th:only-of-type {\n",
       "        vertical-align: middle;\n",
       "    }\n",
       "\n",
       "    .dataframe tbody tr th {\n",
       "        vertical-align: top;\n",
       "    }\n",
       "\n",
       "    .dataframe thead th {\n",
       "        text-align: right;\n",
       "    }\n",
       "</style>\n",
       "<table border=\"1\" class=\"dataframe\">\n",
       "  <thead>\n",
       "    <tr style=\"text-align: right;\">\n",
       "      <th></th>\n",
       "      <th>Date</th>\n",
       "      <th>Open</th>\n",
       "    </tr>\n",
       "  </thead>\n",
       "  <tbody>\n",
       "    <tr>\n",
       "      <th>0</th>\n",
       "      <td>2014-09-17</td>\n",
       "      <td>465.864014</td>\n",
       "    </tr>\n",
       "    <tr>\n",
       "      <th>1</th>\n",
       "      <td>2014-09-18</td>\n",
       "      <td>456.859985</td>\n",
       "    </tr>\n",
       "  </tbody>\n",
       "</table>\n",
       "</div>"
      ],
      "text/plain": [
       "         Date        Open\n",
       "0  2014-09-17  465.864014\n",
       "1  2014-09-18  456.859985"
      ]
     },
     "execution_count": 14,
     "metadata": {},
     "output_type": "execute_result"
    }
   ],
   "source": [
    "# Picking a subset of rows and columns by index:\n",
    "btc.iloc[0:2, 0:2] # \"iloc\" stands for integer-location based indexing"
   ]
  },
  {
   "cell_type": "markdown",
   "id": "b5a26966",
   "metadata": {},
   "source": [
    "Even more often you'll want to query columns by name. "
   ]
  },
  {
   "cell_type": "code",
   "execution_count": 15,
   "id": "41e87f55",
   "metadata": {},
   "outputs": [
    {
     "data": {
      "text/plain": [
       "0         457.334015\n",
       "1         424.440002\n",
       "2         394.795990\n",
       "3         408.903992\n",
       "4         398.821014\n",
       "            ...     \n",
       "3480    70744.953125\n",
       "3481    69892.828125\n",
       "3482    69645.304688\n",
       "3483             NaN\n",
       "3484    71143.296875\n",
       "Name: Close, Length: 3485, dtype: float64"
      ]
     },
     "execution_count": 15,
     "metadata": {},
     "output_type": "execute_result"
    }
   ],
   "source": [
    "# Picking a specific column by name:\n",
    "btc['Close']"
   ]
  },
  {
   "cell_type": "markdown",
   "id": "69225012",
   "metadata": {},
   "source": [
    "If the name does not contain spaces, you can also use the following syntax:"
   ]
  },
  {
   "cell_type": "code",
   "execution_count": 16,
   "id": "ab2adc97",
   "metadata": {},
   "outputs": [
    {
     "data": {
      "text/plain": [
       "0         457.334015\n",
       "1         424.440002\n",
       "2         394.795990\n",
       "3         408.903992\n",
       "4         398.821014\n",
       "            ...     \n",
       "3480    70744.953125\n",
       "3481    69892.828125\n",
       "3482    69645.304688\n",
       "3483             NaN\n",
       "3484    71143.296875\n",
       "Name: Close, Length: 3485, dtype: float64"
      ]
     },
     "execution_count": 16,
     "metadata": {},
     "output_type": "execute_result"
    }
   ],
   "source": [
    "btc.Close"
   ]
  },
  {
   "cell_type": "code",
   "execution_count": 17,
   "id": "8ff19451",
   "metadata": {},
   "outputs": [
    {
     "data": {
      "text/html": [
       "<div>\n",
       "<style scoped>\n",
       "    .dataframe tbody tr th:only-of-type {\n",
       "        vertical-align: middle;\n",
       "    }\n",
       "\n",
       "    .dataframe tbody tr th {\n",
       "        vertical-align: top;\n",
       "    }\n",
       "\n",
       "    .dataframe thead th {\n",
       "        text-align: right;\n",
       "    }\n",
       "</style>\n",
       "<table border=\"1\" class=\"dataframe\">\n",
       "  <thead>\n",
       "    <tr style=\"text-align: right;\">\n",
       "      <th></th>\n",
       "      <th>Close</th>\n",
       "      <th>Volume</th>\n",
       "    </tr>\n",
       "  </thead>\n",
       "  <tbody>\n",
       "    <tr>\n",
       "      <th>0</th>\n",
       "      <td>457.334015</td>\n",
       "      <td>2.105680e+07</td>\n",
       "    </tr>\n",
       "    <tr>\n",
       "      <th>1</th>\n",
       "      <td>424.440002</td>\n",
       "      <td>3.448320e+07</td>\n",
       "    </tr>\n",
       "    <tr>\n",
       "      <th>2</th>\n",
       "      <td>394.795990</td>\n",
       "      <td>3.791970e+07</td>\n",
       "    </tr>\n",
       "    <tr>\n",
       "      <th>3</th>\n",
       "      <td>408.903992</td>\n",
       "      <td>3.686360e+07</td>\n",
       "    </tr>\n",
       "    <tr>\n",
       "      <th>4</th>\n",
       "      <td>398.821014</td>\n",
       "      <td>2.658010e+07</td>\n",
       "    </tr>\n",
       "    <tr>\n",
       "      <th>...</th>\n",
       "      <td>...</td>\n",
       "      <td>...</td>\n",
       "    </tr>\n",
       "    <tr>\n",
       "      <th>3480</th>\n",
       "      <td>70744.953125</td>\n",
       "      <td>3.437490e+10</td>\n",
       "    </tr>\n",
       "    <tr>\n",
       "      <th>3481</th>\n",
       "      <td>69892.828125</td>\n",
       "      <td>2.523085e+10</td>\n",
       "    </tr>\n",
       "    <tr>\n",
       "      <th>3482</th>\n",
       "      <td>69645.304688</td>\n",
       "      <td>1.713024e+10</td>\n",
       "    </tr>\n",
       "    <tr>\n",
       "      <th>3483</th>\n",
       "      <td>NaN</td>\n",
       "      <td>NaN</td>\n",
       "    </tr>\n",
       "    <tr>\n",
       "      <th>3484</th>\n",
       "      <td>71143.296875</td>\n",
       "      <td>2.036216e+10</td>\n",
       "    </tr>\n",
       "  </tbody>\n",
       "</table>\n",
       "<p>3485 rows × 2 columns</p>\n",
       "</div>"
      ],
      "text/plain": [
       "             Close        Volume\n",
       "0       457.334015  2.105680e+07\n",
       "1       424.440002  3.448320e+07\n",
       "2       394.795990  3.791970e+07\n",
       "3       408.903992  3.686360e+07\n",
       "4       398.821014  2.658010e+07\n",
       "...            ...           ...\n",
       "3480  70744.953125  3.437490e+10\n",
       "3481  69892.828125  2.523085e+10\n",
       "3482  69645.304688  1.713024e+10\n",
       "3483           NaN           NaN\n",
       "3484  71143.296875  2.036216e+10\n",
       "\n",
       "[3485 rows x 2 columns]"
      ]
     },
     "execution_count": 17,
     "metadata": {},
     "output_type": "execute_result"
    }
   ],
   "source": [
    "# Picking a subset of columns:\n",
    "btc[['Close', 'Volume']]"
   ]
  },
  {
   "cell_type": "code",
   "execution_count": 18,
   "id": "a394079d",
   "metadata": {},
   "outputs": [
    {
     "data": {
      "text/html": [
       "<div>\n",
       "<style scoped>\n",
       "    .dataframe tbody tr th:only-of-type {\n",
       "        vertical-align: middle;\n",
       "    }\n",
       "\n",
       "    .dataframe tbody tr th {\n",
       "        vertical-align: top;\n",
       "    }\n",
       "\n",
       "    .dataframe thead th {\n",
       "        text-align: right;\n",
       "    }\n",
       "</style>\n",
       "<table border=\"1\" class=\"dataframe\">\n",
       "  <thead>\n",
       "    <tr style=\"text-align: right;\">\n",
       "      <th></th>\n",
       "      <th>Date</th>\n",
       "      <th>Open</th>\n",
       "      <th>High</th>\n",
       "      <th>Low</th>\n",
       "      <th>Close</th>\n",
       "      <th>Adj Close</th>\n",
       "      <th>Volume</th>\n",
       "    </tr>\n",
       "  </thead>\n",
       "  <tbody>\n",
       "    <tr>\n",
       "      <th>1168</th>\n",
       "      <td>2017-11-28</td>\n",
       "      <td>9823.429688</td>\n",
       "      <td>10125.700195</td>\n",
       "      <td>9736.299805</td>\n",
       "      <td>10058.799805</td>\n",
       "      <td>10058.799805</td>\n",
       "      <td>6.348820e+09</td>\n",
       "    </tr>\n",
       "    <tr>\n",
       "      <th>1170</th>\n",
       "      <td>2017-11-30</td>\n",
       "      <td>9906.790039</td>\n",
       "      <td>10801.000000</td>\n",
       "      <td>9202.049805</td>\n",
       "      <td>10233.599609</td>\n",
       "      <td>10233.599609</td>\n",
       "      <td>8.310690e+09</td>\n",
       "    </tr>\n",
       "    <tr>\n",
       "      <th>1171</th>\n",
       "      <td>2017-12-01</td>\n",
       "      <td>10198.599609</td>\n",
       "      <td>11046.700195</td>\n",
       "      <td>9694.650391</td>\n",
       "      <td>10975.599609</td>\n",
       "      <td>10975.599609</td>\n",
       "      <td>6.783120e+09</td>\n",
       "    </tr>\n",
       "    <tr>\n",
       "      <th>1172</th>\n",
       "      <td>2017-12-02</td>\n",
       "      <td>10978.299805</td>\n",
       "      <td>11320.200195</td>\n",
       "      <td>10905.099609</td>\n",
       "      <td>11074.599609</td>\n",
       "      <td>11074.599609</td>\n",
       "      <td>5.138500e+09</td>\n",
       "    </tr>\n",
       "    <tr>\n",
       "      <th>1173</th>\n",
       "      <td>2017-12-03</td>\n",
       "      <td>11082.700195</td>\n",
       "      <td>11858.700195</td>\n",
       "      <td>10862.000000</td>\n",
       "      <td>11323.200195</td>\n",
       "      <td>11323.200195</td>\n",
       "      <td>6.608310e+09</td>\n",
       "    </tr>\n",
       "    <tr>\n",
       "      <th>...</th>\n",
       "      <td>...</td>\n",
       "      <td>...</td>\n",
       "      <td>...</td>\n",
       "      <td>...</td>\n",
       "      <td>...</td>\n",
       "      <td>...</td>\n",
       "      <td>...</td>\n",
       "    </tr>\n",
       "    <tr>\n",
       "      <th>3479</th>\n",
       "      <td>2024-03-27</td>\n",
       "      <td>69991.898438</td>\n",
       "      <td>71727.687500</td>\n",
       "      <td>68381.929688</td>\n",
       "      <td>69455.343750</td>\n",
       "      <td>69455.343750</td>\n",
       "      <td>4.082711e+10</td>\n",
       "    </tr>\n",
       "    <tr>\n",
       "      <th>3480</th>\n",
       "      <td>2024-03-28</td>\n",
       "      <td>69452.773438</td>\n",
       "      <td>71546.023438</td>\n",
       "      <td>68895.507813</td>\n",
       "      <td>70744.953125</td>\n",
       "      <td>70744.953125</td>\n",
       "      <td>3.437490e+10</td>\n",
       "    </tr>\n",
       "    <tr>\n",
       "      <th>3481</th>\n",
       "      <td>2024-03-29</td>\n",
       "      <td>70744.796875</td>\n",
       "      <td>70913.093750</td>\n",
       "      <td>69076.656250</td>\n",
       "      <td>69892.828125</td>\n",
       "      <td>69892.828125</td>\n",
       "      <td>2.523085e+10</td>\n",
       "    </tr>\n",
       "    <tr>\n",
       "      <th>3482</th>\n",
       "      <td>2024-03-30</td>\n",
       "      <td>69893.445313</td>\n",
       "      <td>70355.492188</td>\n",
       "      <td>69601.062500</td>\n",
       "      <td>69645.304688</td>\n",
       "      <td>69645.304688</td>\n",
       "      <td>1.713024e+10</td>\n",
       "    </tr>\n",
       "    <tr>\n",
       "      <th>3484</th>\n",
       "      <td>2024-04-01</td>\n",
       "      <td>71312.171875</td>\n",
       "      <td>71312.171875</td>\n",
       "      <td>70948.109375</td>\n",
       "      <td>71143.296875</td>\n",
       "      <td>71143.296875</td>\n",
       "      <td>2.036216e+10</td>\n",
       "    </tr>\n",
       "  </tbody>\n",
       "</table>\n",
       "<p>1512 rows × 7 columns</p>\n",
       "</div>"
      ],
      "text/plain": [
       "            Date          Open          High           Low         Close  \\\n",
       "1168  2017-11-28   9823.429688  10125.700195   9736.299805  10058.799805   \n",
       "1170  2017-11-30   9906.790039  10801.000000   9202.049805  10233.599609   \n",
       "1171  2017-12-01  10198.599609  11046.700195   9694.650391  10975.599609   \n",
       "1172  2017-12-02  10978.299805  11320.200195  10905.099609  11074.599609   \n",
       "1173  2017-12-03  11082.700195  11858.700195  10862.000000  11323.200195   \n",
       "...          ...           ...           ...           ...           ...   \n",
       "3479  2024-03-27  69991.898438  71727.687500  68381.929688  69455.343750   \n",
       "3480  2024-03-28  69452.773438  71546.023438  68895.507813  70744.953125   \n",
       "3481  2024-03-29  70744.796875  70913.093750  69076.656250  69892.828125   \n",
       "3482  2024-03-30  69893.445313  70355.492188  69601.062500  69645.304688   \n",
       "3484  2024-04-01  71312.171875  71312.171875  70948.109375  71143.296875   \n",
       "\n",
       "         Adj Close        Volume  \n",
       "1168  10058.799805  6.348820e+09  \n",
       "1170  10233.599609  8.310690e+09  \n",
       "1171  10975.599609  6.783120e+09  \n",
       "1172  11074.599609  5.138500e+09  \n",
       "1173  11323.200195  6.608310e+09  \n",
       "...            ...           ...  \n",
       "3479  69455.343750  4.082711e+10  \n",
       "3480  70744.953125  3.437490e+10  \n",
       "3481  69892.828125  2.523085e+10  \n",
       "3482  69645.304688  1.713024e+10  \n",
       "3484  71143.296875  2.036216e+10  \n",
       "\n",
       "[1512 rows x 7 columns]"
      ]
     },
     "execution_count": 18,
     "metadata": {},
     "output_type": "execute_result"
    }
   ],
   "source": [
    "# Picking rows that meet a condition:\n",
    "btc[btc['Close'] > 10000]"
   ]
  },
  {
   "cell_type": "code",
   "execution_count": 19,
   "id": "20071ea2",
   "metadata": {},
   "outputs": [
    {
     "data": {
      "text/html": [
       "<div>\n",
       "<style scoped>\n",
       "    .dataframe tbody tr th:only-of-type {\n",
       "        vertical-align: middle;\n",
       "    }\n",
       "\n",
       "    .dataframe tbody tr th {\n",
       "        vertical-align: top;\n",
       "    }\n",
       "\n",
       "    .dataframe thead th {\n",
       "        text-align: right;\n",
       "    }\n",
       "</style>\n",
       "<table border=\"1\" class=\"dataframe\">\n",
       "  <thead>\n",
       "    <tr style=\"text-align: right;\">\n",
       "      <th></th>\n",
       "      <th>Date</th>\n",
       "      <th>Open</th>\n",
       "      <th>High</th>\n",
       "      <th>Low</th>\n",
       "      <th>Close</th>\n",
       "      <th>Adj Close</th>\n",
       "      <th>Volume</th>\n",
       "    </tr>\n",
       "  </thead>\n",
       "  <tbody>\n",
       "    <tr>\n",
       "      <th>1168</th>\n",
       "      <td>2017-11-28</td>\n",
       "      <td>9823.429688</td>\n",
       "      <td>10125.700195</td>\n",
       "      <td>9736.299805</td>\n",
       "      <td>10058.799805</td>\n",
       "      <td>10058.799805</td>\n",
       "      <td>6.348820e+09</td>\n",
       "    </tr>\n",
       "    <tr>\n",
       "      <th>1170</th>\n",
       "      <td>2017-11-30</td>\n",
       "      <td>9906.790039</td>\n",
       "      <td>10801.000000</td>\n",
       "      <td>9202.049805</td>\n",
       "      <td>10233.599609</td>\n",
       "      <td>10233.599609</td>\n",
       "      <td>8.310690e+09</td>\n",
       "    </tr>\n",
       "    <tr>\n",
       "      <th>1171</th>\n",
       "      <td>2017-12-01</td>\n",
       "      <td>10198.599609</td>\n",
       "      <td>11046.700195</td>\n",
       "      <td>9694.650391</td>\n",
       "      <td>10975.599609</td>\n",
       "      <td>10975.599609</td>\n",
       "      <td>6.783120e+09</td>\n",
       "    </tr>\n",
       "    <tr>\n",
       "      <th>1172</th>\n",
       "      <td>2017-12-02</td>\n",
       "      <td>10978.299805</td>\n",
       "      <td>11320.200195</td>\n",
       "      <td>10905.099609</td>\n",
       "      <td>11074.599609</td>\n",
       "      <td>11074.599609</td>\n",
       "      <td>5.138500e+09</td>\n",
       "    </tr>\n",
       "    <tr>\n",
       "      <th>1173</th>\n",
       "      <td>2017-12-03</td>\n",
       "      <td>11082.700195</td>\n",
       "      <td>11858.700195</td>\n",
       "      <td>10862.000000</td>\n",
       "      <td>11323.200195</td>\n",
       "      <td>11323.200195</td>\n",
       "      <td>6.608310e+09</td>\n",
       "    </tr>\n",
       "    <tr>\n",
       "      <th>...</th>\n",
       "      <td>...</td>\n",
       "      <td>...</td>\n",
       "      <td>...</td>\n",
       "      <td>...</td>\n",
       "      <td>...</td>\n",
       "      <td>...</td>\n",
       "      <td>...</td>\n",
       "    </tr>\n",
       "    <tr>\n",
       "      <th>3479</th>\n",
       "      <td>2024-03-27</td>\n",
       "      <td>69991.898438</td>\n",
       "      <td>71727.687500</td>\n",
       "      <td>68381.929688</td>\n",
       "      <td>69455.343750</td>\n",
       "      <td>69455.343750</td>\n",
       "      <td>4.082711e+10</td>\n",
       "    </tr>\n",
       "    <tr>\n",
       "      <th>3480</th>\n",
       "      <td>2024-03-28</td>\n",
       "      <td>69452.773438</td>\n",
       "      <td>71546.023438</td>\n",
       "      <td>68895.507813</td>\n",
       "      <td>70744.953125</td>\n",
       "      <td>70744.953125</td>\n",
       "      <td>3.437490e+10</td>\n",
       "    </tr>\n",
       "    <tr>\n",
       "      <th>3481</th>\n",
       "      <td>2024-03-29</td>\n",
       "      <td>70744.796875</td>\n",
       "      <td>70913.093750</td>\n",
       "      <td>69076.656250</td>\n",
       "      <td>69892.828125</td>\n",
       "      <td>69892.828125</td>\n",
       "      <td>2.523085e+10</td>\n",
       "    </tr>\n",
       "    <tr>\n",
       "      <th>3482</th>\n",
       "      <td>2024-03-30</td>\n",
       "      <td>69893.445313</td>\n",
       "      <td>70355.492188</td>\n",
       "      <td>69601.062500</td>\n",
       "      <td>69645.304688</td>\n",
       "      <td>69645.304688</td>\n",
       "      <td>1.713024e+10</td>\n",
       "    </tr>\n",
       "    <tr>\n",
       "      <th>3484</th>\n",
       "      <td>2024-04-01</td>\n",
       "      <td>71312.171875</td>\n",
       "      <td>71312.171875</td>\n",
       "      <td>70948.109375</td>\n",
       "      <td>71143.296875</td>\n",
       "      <td>71143.296875</td>\n",
       "      <td>2.036216e+10</td>\n",
       "    </tr>\n",
       "  </tbody>\n",
       "</table>\n",
       "<p>1512 rows × 7 columns</p>\n",
       "</div>"
      ],
      "text/plain": [
       "            Date          Open          High           Low         Close  \\\n",
       "1168  2017-11-28   9823.429688  10125.700195   9736.299805  10058.799805   \n",
       "1170  2017-11-30   9906.790039  10801.000000   9202.049805  10233.599609   \n",
       "1171  2017-12-01  10198.599609  11046.700195   9694.650391  10975.599609   \n",
       "1172  2017-12-02  10978.299805  11320.200195  10905.099609  11074.599609   \n",
       "1173  2017-12-03  11082.700195  11858.700195  10862.000000  11323.200195   \n",
       "...          ...           ...           ...           ...           ...   \n",
       "3479  2024-03-27  69991.898438  71727.687500  68381.929688  69455.343750   \n",
       "3480  2024-03-28  69452.773438  71546.023438  68895.507813  70744.953125   \n",
       "3481  2024-03-29  70744.796875  70913.093750  69076.656250  69892.828125   \n",
       "3482  2024-03-30  69893.445313  70355.492188  69601.062500  69645.304688   \n",
       "3484  2024-04-01  71312.171875  71312.171875  70948.109375  71143.296875   \n",
       "\n",
       "         Adj Close        Volume  \n",
       "1168  10058.799805  6.348820e+09  \n",
       "1170  10233.599609  8.310690e+09  \n",
       "1171  10975.599609  6.783120e+09  \n",
       "1172  11074.599609  5.138500e+09  \n",
       "1173  11323.200195  6.608310e+09  \n",
       "...            ...           ...  \n",
       "3479  69455.343750  4.082711e+10  \n",
       "3480  70744.953125  3.437490e+10  \n",
       "3481  69892.828125  2.523085e+10  \n",
       "3482  69645.304688  1.713024e+10  \n",
       "3484  71143.296875  2.036216e+10  \n",
       "\n",
       "[1512 rows x 7 columns]"
      ]
     },
     "execution_count": 19,
     "metadata": {},
     "output_type": "execute_result"
    }
   ],
   "source": [
    "# Another way to query the data:\n",
    "btc.query('Close > 10000')"
   ]
  },
  {
   "cell_type": "markdown",
   "id": "d38efccf",
   "metadata": {},
   "source": [
    "## 2.4. Dealing with missing data\n",
    "\n",
    "More often than not, your dataset will have some missing cells in it. Empty values will be represented with a Not-a-Number symbol (NA). How to deal with these occurrences is up to the researcher and is highly dependent on their interpretation of these NAs.\n",
    "\n",
    "- A first approach would be to drop all rows where NA is found. Do so by using the following command:"
   ]
  },
  {
   "cell_type": "code",
   "execution_count": 20,
   "id": "bfbf8e1c",
   "metadata": {},
   "outputs": [],
   "source": [
    "# The following line will drop all rows with NaN values in the 'Close' column:\n",
    "btc.dropna(subset=['Close'], inplace=True) # Choose best arguments for your case"
   ]
  },
  {
   "cell_type": "markdown",
   "id": "169a5ee6",
   "metadata": {},
   "source": [
    "Another possible approach is to impute values where the data is missing. To do so, you can either:\n",
    "- substitute NA for a standard value (e.g. zero)\n",
    "- repeat the previous or following value in the sequence\n",
    "- interpolate"
   ]
  },
  {
   "cell_type": "code",
   "execution_count": 21,
   "id": "f7b5664a",
   "metadata": {},
   "outputs": [
    {
     "name": "stderr",
     "output_type": "stream",
     "text": [
      "/var/folders/82/qc43_tjd601__84ds5cl2fyw0000gn/T/ipykernel_1770/1209507791.py:4: FutureWarning: DataFrame.fillna with 'method' is deprecated and will raise in a future version. Use obj.ffill() or obj.bfill() instead.\n",
      "  btc.fillna(method='ffill')\n",
      "/var/folders/82/qc43_tjd601__84ds5cl2fyw0000gn/T/ipykernel_1770/1209507791.py:6: FutureWarning: DataFrame.fillna with 'method' is deprecated and will raise in a future version. Use obj.ffill() or obj.bfill() instead.\n",
      "  btc.fillna(method='bfill')\n"
     ]
    },
    {
     "data": {
      "text/html": [
       "<div>\n",
       "<style scoped>\n",
       "    .dataframe tbody tr th:only-of-type {\n",
       "        vertical-align: middle;\n",
       "    }\n",
       "\n",
       "    .dataframe tbody tr th {\n",
       "        vertical-align: top;\n",
       "    }\n",
       "\n",
       "    .dataframe thead th {\n",
       "        text-align: right;\n",
       "    }\n",
       "</style>\n",
       "<table border=\"1\" class=\"dataframe\">\n",
       "  <thead>\n",
       "    <tr style=\"text-align: right;\">\n",
       "      <th></th>\n",
       "      <th>Date</th>\n",
       "      <th>Open</th>\n",
       "      <th>High</th>\n",
       "      <th>Low</th>\n",
       "      <th>Close</th>\n",
       "      <th>Adj Close</th>\n",
       "      <th>Volume</th>\n",
       "    </tr>\n",
       "  </thead>\n",
       "  <tbody>\n",
       "    <tr>\n",
       "      <th>0</th>\n",
       "      <td>2014-09-17</td>\n",
       "      <td>465.864014</td>\n",
       "      <td>468.174011</td>\n",
       "      <td>452.421997</td>\n",
       "      <td>457.334015</td>\n",
       "      <td>457.334015</td>\n",
       "      <td>2.105680e+07</td>\n",
       "    </tr>\n",
       "    <tr>\n",
       "      <th>1</th>\n",
       "      <td>2014-09-18</td>\n",
       "      <td>456.859985</td>\n",
       "      <td>456.859985</td>\n",
       "      <td>413.104004</td>\n",
       "      <td>424.440002</td>\n",
       "      <td>424.440002</td>\n",
       "      <td>3.448320e+07</td>\n",
       "    </tr>\n",
       "    <tr>\n",
       "      <th>2</th>\n",
       "      <td>2014-09-19</td>\n",
       "      <td>424.102997</td>\n",
       "      <td>427.834991</td>\n",
       "      <td>384.532013</td>\n",
       "      <td>394.795990</td>\n",
       "      <td>394.795990</td>\n",
       "      <td>3.791970e+07</td>\n",
       "    </tr>\n",
       "    <tr>\n",
       "      <th>3</th>\n",
       "      <td>2014-09-20</td>\n",
       "      <td>394.673004</td>\n",
       "      <td>423.295990</td>\n",
       "      <td>389.882996</td>\n",
       "      <td>408.903992</td>\n",
       "      <td>408.903992</td>\n",
       "      <td>3.686360e+07</td>\n",
       "    </tr>\n",
       "    <tr>\n",
       "      <th>4</th>\n",
       "      <td>2014-09-21</td>\n",
       "      <td>408.084991</td>\n",
       "      <td>412.425995</td>\n",
       "      <td>393.181000</td>\n",
       "      <td>398.821014</td>\n",
       "      <td>398.821014</td>\n",
       "      <td>2.658010e+07</td>\n",
       "    </tr>\n",
       "    <tr>\n",
       "      <th>...</th>\n",
       "      <td>...</td>\n",
       "      <td>...</td>\n",
       "      <td>...</td>\n",
       "      <td>...</td>\n",
       "      <td>...</td>\n",
       "      <td>...</td>\n",
       "      <td>...</td>\n",
       "    </tr>\n",
       "    <tr>\n",
       "      <th>3479</th>\n",
       "      <td>2024-03-27</td>\n",
       "      <td>69991.898438</td>\n",
       "      <td>71727.687500</td>\n",
       "      <td>68381.929688</td>\n",
       "      <td>69455.343750</td>\n",
       "      <td>69455.343750</td>\n",
       "      <td>4.082711e+10</td>\n",
       "    </tr>\n",
       "    <tr>\n",
       "      <th>3480</th>\n",
       "      <td>2024-03-28</td>\n",
       "      <td>69452.773438</td>\n",
       "      <td>71546.023438</td>\n",
       "      <td>68895.507813</td>\n",
       "      <td>70744.953125</td>\n",
       "      <td>70744.953125</td>\n",
       "      <td>3.437490e+10</td>\n",
       "    </tr>\n",
       "    <tr>\n",
       "      <th>3481</th>\n",
       "      <td>2024-03-29</td>\n",
       "      <td>70744.796875</td>\n",
       "      <td>70913.093750</td>\n",
       "      <td>69076.656250</td>\n",
       "      <td>69892.828125</td>\n",
       "      <td>69892.828125</td>\n",
       "      <td>2.523085e+10</td>\n",
       "    </tr>\n",
       "    <tr>\n",
       "      <th>3482</th>\n",
       "      <td>2024-03-30</td>\n",
       "      <td>69893.445313</td>\n",
       "      <td>70355.492188</td>\n",
       "      <td>69601.062500</td>\n",
       "      <td>69645.304688</td>\n",
       "      <td>69645.304688</td>\n",
       "      <td>1.713024e+10</td>\n",
       "    </tr>\n",
       "    <tr>\n",
       "      <th>3484</th>\n",
       "      <td>2024-04-01</td>\n",
       "      <td>71312.171875</td>\n",
       "      <td>71312.171875</td>\n",
       "      <td>70948.109375</td>\n",
       "      <td>71143.296875</td>\n",
       "      <td>71143.296875</td>\n",
       "      <td>2.036216e+10</td>\n",
       "    </tr>\n",
       "  </tbody>\n",
       "</table>\n",
       "<p>3484 rows × 7 columns</p>\n",
       "</div>"
      ],
      "text/plain": [
       "            Date          Open          High           Low         Close  \\\n",
       "0     2014-09-17    465.864014    468.174011    452.421997    457.334015   \n",
       "1     2014-09-18    456.859985    456.859985    413.104004    424.440002   \n",
       "2     2014-09-19    424.102997    427.834991    384.532013    394.795990   \n",
       "3     2014-09-20    394.673004    423.295990    389.882996    408.903992   \n",
       "4     2014-09-21    408.084991    412.425995    393.181000    398.821014   \n",
       "...          ...           ...           ...           ...           ...   \n",
       "3479  2024-03-27  69991.898438  71727.687500  68381.929688  69455.343750   \n",
       "3480  2024-03-28  69452.773438  71546.023438  68895.507813  70744.953125   \n",
       "3481  2024-03-29  70744.796875  70913.093750  69076.656250  69892.828125   \n",
       "3482  2024-03-30  69893.445313  70355.492188  69601.062500  69645.304688   \n",
       "3484  2024-04-01  71312.171875  71312.171875  70948.109375  71143.296875   \n",
       "\n",
       "         Adj Close        Volume  \n",
       "0       457.334015  2.105680e+07  \n",
       "1       424.440002  3.448320e+07  \n",
       "2       394.795990  3.791970e+07  \n",
       "3       408.903992  3.686360e+07  \n",
       "4       398.821014  2.658010e+07  \n",
       "...            ...           ...  \n",
       "3479  69455.343750  4.082711e+10  \n",
       "3480  70744.953125  3.437490e+10  \n",
       "3481  69892.828125  2.523085e+10  \n",
       "3482  69645.304688  1.713024e+10  \n",
       "3484  71143.296875  2.036216e+10  \n",
       "\n",
       "[3484 rows x 7 columns]"
      ]
     },
     "execution_count": 21,
     "metadata": {},
     "output_type": "execute_result"
    }
   ],
   "source": [
    "# Fill missing values:\n",
    "btc.fillna(value=0)\n",
    "# Replace missing values with the previous value: (f for forward, b for backward)\n",
    "btc.fillna(method='ffill')\n",
    "# Replace missing values with the next value:\n",
    "btc.fillna(method='bfill')"
   ]
  },
  {
   "cell_type": "markdown",
   "id": "533390e7",
   "metadata": {},
   "source": [
    "If you decide to interpolate, the interpolation method is also a choice."
   ]
  },
  {
   "cell_type": "code",
   "execution_count": 22,
   "id": "48e7fe63",
   "metadata": {},
   "outputs": [
    {
     "name": "stderr",
     "output_type": "stream",
     "text": [
      "/var/folders/82/qc43_tjd601__84ds5cl2fyw0000gn/T/ipykernel_1770/3073073883.py:1: FutureWarning: DataFrame.interpolate with object dtype is deprecated and will raise in a future version. Call obj.infer_objects(copy=False) before interpolating instead.\n",
      "  btc.interpolate(method='linear')\n"
     ]
    },
    {
     "data": {
      "text/html": [
       "<div>\n",
       "<style scoped>\n",
       "    .dataframe tbody tr th:only-of-type {\n",
       "        vertical-align: middle;\n",
       "    }\n",
       "\n",
       "    .dataframe tbody tr th {\n",
       "        vertical-align: top;\n",
       "    }\n",
       "\n",
       "    .dataframe thead th {\n",
       "        text-align: right;\n",
       "    }\n",
       "</style>\n",
       "<table border=\"1\" class=\"dataframe\">\n",
       "  <thead>\n",
       "    <tr style=\"text-align: right;\">\n",
       "      <th></th>\n",
       "      <th>Date</th>\n",
       "      <th>Open</th>\n",
       "      <th>High</th>\n",
       "      <th>Low</th>\n",
       "      <th>Close</th>\n",
       "      <th>Adj Close</th>\n",
       "      <th>Volume</th>\n",
       "    </tr>\n",
       "  </thead>\n",
       "  <tbody>\n",
       "    <tr>\n",
       "      <th>0</th>\n",
       "      <td>2014-09-17</td>\n",
       "      <td>465.864014</td>\n",
       "      <td>468.174011</td>\n",
       "      <td>452.421997</td>\n",
       "      <td>457.334015</td>\n",
       "      <td>457.334015</td>\n",
       "      <td>2.105680e+07</td>\n",
       "    </tr>\n",
       "    <tr>\n",
       "      <th>1</th>\n",
       "      <td>2014-09-18</td>\n",
       "      <td>456.859985</td>\n",
       "      <td>456.859985</td>\n",
       "      <td>413.104004</td>\n",
       "      <td>424.440002</td>\n",
       "      <td>424.440002</td>\n",
       "      <td>3.448320e+07</td>\n",
       "    </tr>\n",
       "    <tr>\n",
       "      <th>2</th>\n",
       "      <td>2014-09-19</td>\n",
       "      <td>424.102997</td>\n",
       "      <td>427.834991</td>\n",
       "      <td>384.532013</td>\n",
       "      <td>394.795990</td>\n",
       "      <td>394.795990</td>\n",
       "      <td>3.791970e+07</td>\n",
       "    </tr>\n",
       "    <tr>\n",
       "      <th>3</th>\n",
       "      <td>2014-09-20</td>\n",
       "      <td>394.673004</td>\n",
       "      <td>423.295990</td>\n",
       "      <td>389.882996</td>\n",
       "      <td>408.903992</td>\n",
       "      <td>408.903992</td>\n",
       "      <td>3.686360e+07</td>\n",
       "    </tr>\n",
       "    <tr>\n",
       "      <th>4</th>\n",
       "      <td>2014-09-21</td>\n",
       "      <td>408.084991</td>\n",
       "      <td>412.425995</td>\n",
       "      <td>393.181000</td>\n",
       "      <td>398.821014</td>\n",
       "      <td>398.821014</td>\n",
       "      <td>2.658010e+07</td>\n",
       "    </tr>\n",
       "    <tr>\n",
       "      <th>...</th>\n",
       "      <td>...</td>\n",
       "      <td>...</td>\n",
       "      <td>...</td>\n",
       "      <td>...</td>\n",
       "      <td>...</td>\n",
       "      <td>...</td>\n",
       "      <td>...</td>\n",
       "    </tr>\n",
       "    <tr>\n",
       "      <th>3479</th>\n",
       "      <td>2024-03-27</td>\n",
       "      <td>69991.898438</td>\n",
       "      <td>71727.687500</td>\n",
       "      <td>68381.929688</td>\n",
       "      <td>69455.343750</td>\n",
       "      <td>69455.343750</td>\n",
       "      <td>4.082711e+10</td>\n",
       "    </tr>\n",
       "    <tr>\n",
       "      <th>3480</th>\n",
       "      <td>2024-03-28</td>\n",
       "      <td>69452.773438</td>\n",
       "      <td>71546.023438</td>\n",
       "      <td>68895.507813</td>\n",
       "      <td>70744.953125</td>\n",
       "      <td>70744.953125</td>\n",
       "      <td>3.437490e+10</td>\n",
       "    </tr>\n",
       "    <tr>\n",
       "      <th>3481</th>\n",
       "      <td>2024-03-29</td>\n",
       "      <td>70744.796875</td>\n",
       "      <td>70913.093750</td>\n",
       "      <td>69076.656250</td>\n",
       "      <td>69892.828125</td>\n",
       "      <td>69892.828125</td>\n",
       "      <td>2.523085e+10</td>\n",
       "    </tr>\n",
       "    <tr>\n",
       "      <th>3482</th>\n",
       "      <td>2024-03-30</td>\n",
       "      <td>69893.445313</td>\n",
       "      <td>70355.492188</td>\n",
       "      <td>69601.062500</td>\n",
       "      <td>69645.304688</td>\n",
       "      <td>69645.304688</td>\n",
       "      <td>1.713024e+10</td>\n",
       "    </tr>\n",
       "    <tr>\n",
       "      <th>3484</th>\n",
       "      <td>2024-04-01</td>\n",
       "      <td>71312.171875</td>\n",
       "      <td>71312.171875</td>\n",
       "      <td>70948.109375</td>\n",
       "      <td>71143.296875</td>\n",
       "      <td>71143.296875</td>\n",
       "      <td>2.036216e+10</td>\n",
       "    </tr>\n",
       "  </tbody>\n",
       "</table>\n",
       "<p>3484 rows × 7 columns</p>\n",
       "</div>"
      ],
      "text/plain": [
       "            Date          Open          High           Low         Close  \\\n",
       "0     2014-09-17    465.864014    468.174011    452.421997    457.334015   \n",
       "1     2014-09-18    456.859985    456.859985    413.104004    424.440002   \n",
       "2     2014-09-19    424.102997    427.834991    384.532013    394.795990   \n",
       "3     2014-09-20    394.673004    423.295990    389.882996    408.903992   \n",
       "4     2014-09-21    408.084991    412.425995    393.181000    398.821014   \n",
       "...          ...           ...           ...           ...           ...   \n",
       "3479  2024-03-27  69991.898438  71727.687500  68381.929688  69455.343750   \n",
       "3480  2024-03-28  69452.773438  71546.023438  68895.507813  70744.953125   \n",
       "3481  2024-03-29  70744.796875  70913.093750  69076.656250  69892.828125   \n",
       "3482  2024-03-30  69893.445313  70355.492188  69601.062500  69645.304688   \n",
       "3484  2024-04-01  71312.171875  71312.171875  70948.109375  71143.296875   \n",
       "\n",
       "         Adj Close        Volume  \n",
       "0       457.334015  2.105680e+07  \n",
       "1       424.440002  3.448320e+07  \n",
       "2       394.795990  3.791970e+07  \n",
       "3       408.903992  3.686360e+07  \n",
       "4       398.821014  2.658010e+07  \n",
       "...            ...           ...  \n",
       "3479  69455.343750  4.082711e+10  \n",
       "3480  70744.953125  3.437490e+10  \n",
       "3481  69892.828125  2.523085e+10  \n",
       "3482  69645.304688  1.713024e+10  \n",
       "3484  71143.296875  2.036216e+10  \n",
       "\n",
       "[3484 rows x 7 columns]"
      ]
     },
     "execution_count": 22,
     "metadata": {},
     "output_type": "execute_result"
    }
   ],
   "source": [
    "btc.interpolate(method='linear')"
   ]
  },
  {
   "cell_type": "markdown",
   "id": "8d099683",
   "metadata": {},
   "source": [
    "## IN-CLASS:\n",
    "- Open the dataset `capital_flows.xlsx`. This database contains gross capital flows by bank corporates and sovereigns (Avdjiev, S, B Hardy, Ş Kalemli-Özcan and L Servén \"Gross Capital Flows by Banks, Corporates, and Sovereigns\", Journal of the European Economic Association, Vol 20 (5), pp 2098–2135.) Search the web for the right command to do that. \n",
    "\n",
    "**Notice that you need to pick the right worksheet to read: our desired dataset is in worksheet `data`**!\n",
    "\n",
    "1) How many columns are there?\n",
    "\n",
    "2) Fill all the missing data in the column `Public_PD_outflows` with 0.\n",
    "\n",
    "3) Filter only the rows for the United States. Use any command of your choice to do so. Filter by imposing a condition on `countrycode`. "
   ]
  },
  {
   "cell_type": "code",
   "execution_count": 23,
   "id": "1a7280e9",
   "metadata": {},
   "outputs": [
    {
     "name": "stdout",
     "output_type": "stream",
     "text": [
      "Requirement already satisfied: openpyxl in /Users/pedrovallocci/opt/anaconda3/lib/python3.9/site-packages (3.1.2)\n",
      "Requirement already satisfied: et-xmlfile in /Users/pedrovallocci/opt/anaconda3/lib/python3.9/site-packages (from openpyxl) (1.1.0)\n"
     ]
    },
    {
     "name": "stdout",
     "output_type": "stream",
     "text": [
      "Note: you may need to restart the kernel to use updated packages.\n"
     ]
    }
   ],
   "source": [
    "%pip install openpyxl --upgrade"
   ]
  },
  {
   "cell_type": "code",
   "execution_count": 28,
   "id": "fa970c93",
   "metadata": {},
   "outputs": [
    {
     "name": "stdout",
     "output_type": "stream",
     "text": [
      "The dataset has 40 columns.\n"
     ]
    }
   ],
   "source": [
    "# Open the dataset capital_flows.xlsx:\n",
    "cf = pd.read_excel('capital_flows.xlsx', sheet_name='data')  \n",
    "print(f\"The dataset has {cf.shape[1]} columns.\")\n",
    "cf_usa = cf[cf.countrycode == 'USA']\n"
   ]
  },
  {
   "cell_type": "markdown",
   "id": "f13bc56b",
   "metadata": {},
   "source": [
    "## 2.5. Assigning new columns"
   ]
  },
  {
   "cell_type": "markdown",
   "id": "29d9c027",
   "metadata": {},
   "source": [
    "Below, methods to:\n",
    "- Create a new column Close2, in bracket (non-chainable) notation\n",
    "- Create a new column Close3, in chainable notation\n",
    "- Dropping columns from the dataset"
   ]
  },
  {
   "cell_type": "code",
   "execution_count": null,
   "id": "8e532ba2",
   "metadata": {},
   "outputs": [],
   "source": [
    "# Assigning a new column:\n",
    "btc['Close2'] = btc['Close'] * 2\n",
    "# Or:\n",
    "# I generally prefer this way, as it's more readable.\n",
    "btc = btc.assign(Close3 = btc['Close'] * 3)\n",
    "# Deleting columns Close2 and Close3:\n",
    "btc = btc.drop(columns=['Close2', 'Close3'])"
   ]
  },
  {
   "cell_type": "markdown",
   "id": "6f7d6797",
   "metadata": {},
   "source": [
    "A common task in data cleaning is to convert a string (e.g. \"2014-09-02\") to date format."
   ]
  },
  {
   "cell_type": "code",
   "execution_count": null,
   "id": "36de2898",
   "metadata": {},
   "outputs": [],
   "source": [
    "btc2 = btc.assign(Date = pd.to_datetime(btc['Date'], errors = 'coerce'))"
   ]
  },
  {
   "cell_type": "markdown",
   "id": "e1a3bbcf",
   "metadata": {},
   "source": [
    "Another quite powerful way to manipulate data is using lambda functions:\n",
    "Lambda functions are anonymous functions that can be used to perform operations on the data, \n",
    "without the need to explicitly define a function.\n"
   ]
  },
  {
   "cell_type": "code",
   "execution_count": null,
   "id": "2904e094",
   "metadata": {},
   "outputs": [
    {
     "data": {
      "text/plain": [
       "0          914.668030\n",
       "1          848.880004\n",
       "2          789.591980\n",
       "3          817.807984\n",
       "4          797.642028\n",
       "            ...      \n",
       "3479    138910.687500\n",
       "3480    141489.906250\n",
       "3481    139785.656250\n",
       "3482    139290.609376\n",
       "3484    142286.593750\n",
       "Name: Close, Length: 3484, dtype: float64"
      ]
     },
     "execution_count": 29,
     "metadata": {},
     "output_type": "execute_result"
    }
   ],
   "source": [
    "# Using lambda functions:\n",
    "btc2['Close'].apply(lambda x: x * 2)"
   ]
  },
  {
   "cell_type": "markdown",
   "id": "7cef7c58",
   "metadata": {},
   "source": [
    "## 2.6. Chaining methods \n",
    "\n",
    "Chaining methods is a good way to make your code more readable, such as when using dplyr in R and the \"%>%\" operator.\n",
    "\n",
    "Chaining also a good way to avoid creating unnecessary variables.\n",
    "\n",
    "- You can only skip a line while chaining methods if you:\n",
    "\n",
    "    - Wrap your whole command inside parentheses (as I did below)\n",
    "\n",
    "    - Write \"\\\\\\\\\" at the end of each line."
   ]
  },
  {
   "cell_type": "markdown",
   "id": "6ae4bfcb",
   "metadata": {},
   "source": [
    "- Below, examples of:\n",
    "\n",
    "    - dropna: Drops rows with missing data (NA) anywhere\n",
    "\n",
    "    - drop_duplicates: Drops rows with duplicate values\n",
    "\n",
    "    - Lambda: this is a so-called _anonymous function_. It allows you to run functions on existing data without need to define the function outside\n",
    "\n",
    "    - GroupBy: Useful to calculate statistics for subsets of data. Below, groupby will group subsets of rows, separated by year. The following `agg` command will find the `mean` of the Close column and the `sum` of the Volume column.\n",
    "\n",
    "        - Several other aggregating functions exist: `count`, `median`, `max`, `std` tc."
   ]
  },
  {
   "cell_type": "code",
   "execution_count": 90,
   "id": "06b2e4b6",
   "metadata": {},
   "outputs": [],
   "source": [
    "btc = (btc.assign(Date = pd.to_datetime(btc['Date'], errors = 'coerce'))\n",
    "            .assign(Year = lambda x: x['Date'].dt.year)\n",
    "            .dropna()\n",
    "            .drop_duplicates(\"Date\"))"
   ]
  },
  {
   "cell_type": "markdown",
   "id": "a4f45722",
   "metadata": {},
   "source": [
    "## 2.7. Group by\n",
    " Using groupby allows you to group data by a column and apply a function to either summarize each group as needed, or apply group-related functions (e.g. rank of variable X by group).\n"
   ]
  },
  {
   "cell_type": "code",
   "execution_count": 91,
   "id": "c416150f",
   "metadata": {},
   "outputs": [],
   "source": [
    "btc_summary = (btc\n",
    "            .groupby('Year')\n",
    "            .agg({'Close':'mean', 'Volume':'sum'}))"
   ]
  },
  {
   "cell_type": "code",
   "execution_count": 92,
   "id": "43898eed",
   "metadata": {},
   "outputs": [
    {
     "data": {
      "text/html": [
       "<div>\n",
       "<style scoped>\n",
       "    .dataframe tbody tr th:only-of-type {\n",
       "        vertical-align: middle;\n",
       "    }\n",
       "\n",
       "    .dataframe tbody tr th {\n",
       "        vertical-align: top;\n",
       "    }\n",
       "\n",
       "    .dataframe thead th {\n",
       "        text-align: right;\n",
       "    }\n",
       "</style>\n",
       "<table border=\"1\" class=\"dataframe\">\n",
       "  <thead>\n",
       "    <tr style=\"text-align: right;\">\n",
       "      <th></th>\n",
       "      <th>Close</th>\n",
       "      <th>Volume</th>\n",
       "    </tr>\n",
       "    <tr>\n",
       "      <th>Year</th>\n",
       "      <th></th>\n",
       "      <th></th>\n",
       "    </tr>\n",
       "  </thead>\n",
       "  <tbody>\n",
       "    <tr>\n",
       "      <th>2014</th>\n",
       "      <td>363.693085</td>\n",
       "      <td>2.526711e+09</td>\n",
       "    </tr>\n",
       "    <tr>\n",
       "      <th>2015</th>\n",
       "      <td>272.453381</td>\n",
       "      <td>1.237553e+10</td>\n",
       "    </tr>\n",
       "    <tr>\n",
       "      <th>2016</th>\n",
       "      <td>568.492407</td>\n",
       "      <td>3.144837e+10</td>\n",
       "    </tr>\n",
       "    <tr>\n",
       "      <th>2017</th>\n",
       "      <td>4006.033629</td>\n",
       "      <td>8.697464e+11</td>\n",
       "    </tr>\n",
       "    <tr>\n",
       "      <th>2018</th>\n",
       "      <td>7572.298947</td>\n",
       "      <td>2.213197e+12</td>\n",
       "    </tr>\n",
       "    <tr>\n",
       "      <th>2019</th>\n",
       "      <td>7395.246282</td>\n",
       "      <td>6.106628e+12</td>\n",
       "    </tr>\n",
       "    <tr>\n",
       "      <th>2020</th>\n",
       "      <td>11116.378092</td>\n",
       "      <td>1.208652e+13</td>\n",
       "    </tr>\n",
       "    <tr>\n",
       "      <th>2021</th>\n",
       "      <td>47436.932021</td>\n",
       "      <td>1.721185e+13</td>\n",
       "    </tr>\n",
       "    <tr>\n",
       "      <th>2022</th>\n",
       "      <td>28197.754099</td>\n",
       "      <td>1.095484e+13</td>\n",
       "    </tr>\n",
       "    <tr>\n",
       "      <th>2023</th>\n",
       "      <td>28859.448250</td>\n",
       "      <td>6.661590e+12</td>\n",
       "    </tr>\n",
       "    <tr>\n",
       "      <th>2024</th>\n",
       "      <td>53576.629722</td>\n",
       "      <td>3.103370e+12</td>\n",
       "    </tr>\n",
       "  </tbody>\n",
       "</table>\n",
       "</div>"
      ],
      "text/plain": [
       "             Close        Volume\n",
       "Year                            \n",
       "2014    363.693085  2.526711e+09\n",
       "2015    272.453381  1.237553e+10\n",
       "2016    568.492407  3.144837e+10\n",
       "2017   4006.033629  8.697464e+11\n",
       "2018   7572.298947  2.213197e+12\n",
       "2019   7395.246282  6.106628e+12\n",
       "2020  11116.378092  1.208652e+13\n",
       "2021  47436.932021  1.721185e+13\n",
       "2022  28197.754099  1.095484e+13\n",
       "2023  28859.448250  6.661590e+12\n",
       "2024  53576.629722  3.103370e+12"
      ]
     },
     "execution_count": 92,
     "metadata": {},
     "output_type": "execute_result"
    }
   ],
   "source": [
    "btc_summary"
   ]
  },
  {
   "cell_type": "markdown",
   "id": "652a973e",
   "metadata": {},
   "source": [
    "## IN-CLASS:\n",
    "- Let's use the capital flows database again. Use chaining to do the following:\n",
    "\n",
    "1. Use `.filter` to select columns that contain the substring `PD_inflows` (Check the documentation online)\n",
    "\n",
    "2. Fill NAs with 0 in columns Public_PD_inflows, Gov_PD_inflows, CB_PD_inflows, Bank_PD_inflows, Corp_PD_inflows.\n",
    "\n",
    "2. Create a new column called Total_inflows equal to the sum of five columns above. Use the command `lambda` to do that.\n",
    "\n",
    "3. For every country and every year, find the total inflows. "
   ]
  },
  {
   "cell_type": "code",
   "execution_count": 29,
   "id": "38906574",
   "metadata": {},
   "outputs": [
    {
     "ename": "TypeError",
     "evalue": "fillna() got an unexpected keyword argument 'subset'",
     "output_type": "error",
     "traceback": [
      "\u001b[0;31m---------------------------------------------------------------------------\u001b[0m",
      "\u001b[0;31mTypeError\u001b[0m                                 Traceback (most recent call last)",
      "Cell \u001b[0;32mIn[29], line 3\u001b[0m\n\u001b[1;32m      1\u001b[0m \u001b[38;5;66;03m# Open the dataset capital_flows.xlsx:\u001b[39;00m\n\u001b[1;32m      2\u001b[0m cf \u001b[38;5;241m=\u001b[39m pd\u001b[38;5;241m.\u001b[39mread_excel(\u001b[38;5;124m'\u001b[39m\u001b[38;5;124mcapital_flows.xlsx\u001b[39m\u001b[38;5;124m'\u001b[39m, sheet_name\u001b[38;5;241m=\u001b[39m\u001b[38;5;124m'\u001b[39m\u001b[38;5;124mdata\u001b[39m\u001b[38;5;124m'\u001b[39m)  \n\u001b[0;32m----> 3\u001b[0m cf_agg \u001b[38;5;241m=\u001b[39m (\u001b[43mcf\u001b[49m\u001b[38;5;241;43m.\u001b[39;49m\u001b[43mfillna\u001b[49m\u001b[43m(\u001b[49m\u001b[43msubset\u001b[49m\u001b[38;5;241;43m=\u001b[39;49m\u001b[43m[\u001b[49m\u001b[38;5;124;43m'\u001b[39;49m\u001b[38;5;124;43mPublic_PD_inflows\u001b[39;49m\u001b[38;5;124;43m'\u001b[39;49m\u001b[43m,\u001b[49m\u001b[43m \u001b[49m\u001b[38;5;124;43m'\u001b[39;49m\u001b[38;5;124;43mGov_PD_inflows\u001b[39;49m\u001b[38;5;124;43m'\u001b[39;49m\u001b[43m,\u001b[49m\u001b[43m \u001b[49m\u001b[38;5;124;43m'\u001b[39;49m\u001b[38;5;124;43m CB_PD_inflows\u001b[39;49m\u001b[38;5;124;43m'\u001b[39;49m\u001b[43m,\u001b[49m\u001b[43m \u001b[49m\u001b[38;5;124;43m'\u001b[39;49m\u001b[38;5;124;43mBank_PD_inflows\u001b[39;49m\u001b[38;5;124;43m'\u001b[39;49m\u001b[43m,\u001b[49m\u001b[43m \u001b[49m\u001b[38;5;124;43m'\u001b[39;49m\u001b[38;5;124;43mCorp_PD_inflows\u001b[39;49m\u001b[38;5;124;43m'\u001b[39;49m\u001b[43m]\u001b[49m\u001b[43m,\u001b[49m\n\u001b[1;32m      4\u001b[0m \u001b[43m          \u001b[49m\u001b[43mvalue\u001b[49m\u001b[43m \u001b[49m\u001b[38;5;241;43m=\u001b[39;49m\u001b[43m \u001b[49m\u001b[38;5;241;43m0\u001b[39;49m\u001b[43m,\u001b[49m\u001b[43m \u001b[49m\u001b[43minplace\u001b[49m\u001b[38;5;241;43m=\u001b[39;49m\u001b[38;5;28;43;01mTrue\u001b[39;49;00m\u001b[43m)\u001b[49m\n\u001b[1;32m      5\u001b[0m       \u001b[38;5;241m.\u001b[39massign(Total_PD_inflows \u001b[38;5;241m=\u001b[39m \u001b[38;5;28;01mlambda\u001b[39;00m x: x[\u001b[38;5;124m'\u001b[39m\u001b[38;5;124mPublic_PD_inflows\u001b[39m\u001b[38;5;124m'\u001b[39m] \u001b[38;5;241m+\u001b[39m x[\u001b[38;5;124m'\u001b[39m\u001b[38;5;124mGov_PD_inflows\u001b[39m\u001b[38;5;124m'\u001b[39m] \u001b[38;5;241m+\u001b[39m x[\u001b[38;5;124m'\u001b[39m\u001b[38;5;124mCB_PD_inflows\u001b[39m\u001b[38;5;124m'\u001b[39m] \u001b[38;5;241m+\u001b[39m x[\u001b[38;5;124m'\u001b[39m\u001b[38;5;124mBank_PD_inflows\u001b[39m\u001b[38;5;124m'\u001b[39m] \u001b[38;5;241m+\u001b[39m x[\u001b[38;5;124m'\u001b[39m\u001b[38;5;124mCorp_PD_inflows\u001b[39m\u001b[38;5;124m'\u001b[39m])\n\u001b[1;32m      6\u001b[0m       \u001b[38;5;241m.\u001b[39mgroupby([\u001b[38;5;124m'\u001b[39m\u001b[38;5;124mcountrycode\u001b[39m\u001b[38;5;124m'\u001b[39m, \u001b[38;5;124m'\u001b[39m\u001b[38;5;124myear\u001b[39m\u001b[38;5;124m'\u001b[39m])\u001b[38;5;241m.\u001b[39m\n\u001b[1;32m      7\u001b[0m         agg({\u001b[38;5;124m'\u001b[39m\u001b[38;5;124mTotal_PD_inflows\u001b[39m\u001b[38;5;124m'\u001b[39m:\u001b[38;5;124m'\u001b[39m\u001b[38;5;124msum\u001b[39m\u001b[38;5;124m'\u001b[39m}))\n",
      "\u001b[0;31mTypeError\u001b[0m: fillna() got an unexpected keyword argument 'subset'"
     ]
    }
   ],
   "source": [
    "# Open the dataset capital_flows.xlsx:\n",
    "cf = pd.read_excel('capital_flows.xlsx', sheet_name='data')  \n",
    "cf_agg = (cf.fillna(subset=['Public_PD_inflows', 'Gov_PD_inflows', ' CB_PD_inflows', 'Bank_PD_inflows', 'Corp_PD_inflows'],\n",
    "          value = 0, inplace=True)\n",
    "      .assign(Total_PD_inflows = lambda x: x['Public_PD_inflows'] + x['Gov_PD_inflows'] + x['CB_PD_inflows'] + x['Bank_PD_inflows'] + x['Corp_PD_inflows'])\n",
    "      .groupby(['countrycode', 'year']).\n",
    "        agg({'Total_PD_inflows':'sum'}))\n"
   ]
  },
  {
   "cell_type": "markdown",
   "id": "32ab40e8",
   "metadata": {},
   "source": [
    "## 2.8. Merging dataframes\n",
    "\n",
    "Another fundamental operation for data manipulation is merging dataframes, when you have two different tables with data about your object of interest."
   ]
  },
  {
   "cell_type": "markdown",
   "id": "19f8f2ab",
   "metadata": {},
   "source": [
    "When merging dataframes, several merging options are available:\n",
    "\n",
    "- inner: only keep rows that are present in both dataframes\n",
    "\n",
    "- left: keep all rows from the left dataframe, and fill missing values with NaN\n",
    "\n",
    "- right: keep all rows from the right dataframe, and fill missing values with NaN\n",
    "\n",
    "- outer: keep all rows from both dataframes, and fill missing values with NaN\n",
    "\n",
    "Additionally, you need to define what columns to merge on. \n",
    "\n",
    "In the example below, we will merge the closing prices of Bitcoin and Ethereum, for each given day."
   ]
  },
  {
   "cell_type": "code",
   "execution_count": 18,
   "id": "a11ae117",
   "metadata": {},
   "outputs": [
    {
     "data": {
      "text/html": [
       "<div>\n",
       "<style scoped>\n",
       "    .dataframe tbody tr th:only-of-type {\n",
       "        vertical-align: middle;\n",
       "    }\n",
       "\n",
       "    .dataframe tbody tr th {\n",
       "        vertical-align: top;\n",
       "    }\n",
       "\n",
       "    .dataframe thead th {\n",
       "        text-align: right;\n",
       "    }\n",
       "</style>\n",
       "<table border=\"1\" class=\"dataframe\">\n",
       "  <thead>\n",
       "    <tr style=\"text-align: right;\">\n",
       "      <th></th>\n",
       "      <th>Date</th>\n",
       "      <th>Close_BTC</th>\n",
       "      <th>Close_ETH</th>\n",
       "    </tr>\n",
       "  </thead>\n",
       "  <tbody>\n",
       "    <tr>\n",
       "      <th>0</th>\n",
       "      <td>2017-11-09</td>\n",
       "      <td>7143.580078</td>\n",
       "      <td>320.884003</td>\n",
       "    </tr>\n",
       "    <tr>\n",
       "      <th>1</th>\n",
       "      <td>2017-11-10</td>\n",
       "      <td>6618.140137</td>\n",
       "      <td>299.252991</td>\n",
       "    </tr>\n",
       "    <tr>\n",
       "      <th>2</th>\n",
       "      <td>2017-11-11</td>\n",
       "      <td>6357.600098</td>\n",
       "      <td>314.681000</td>\n",
       "    </tr>\n",
       "    <tr>\n",
       "      <th>3</th>\n",
       "      <td>2017-11-12</td>\n",
       "      <td>5950.069824</td>\n",
       "      <td>307.907990</td>\n",
       "    </tr>\n",
       "    <tr>\n",
       "      <th>4</th>\n",
       "      <td>2017-11-13</td>\n",
       "      <td>6559.490234</td>\n",
       "      <td>316.716003</td>\n",
       "    </tr>\n",
       "    <tr>\n",
       "      <th>...</th>\n",
       "      <td>...</td>\n",
       "      <td>...</td>\n",
       "      <td>...</td>\n",
       "    </tr>\n",
       "    <tr>\n",
       "      <th>2330</th>\n",
       "      <td>2024-03-27</td>\n",
       "      <td>69455.343750</td>\n",
       "      <td>3500.115234</td>\n",
       "    </tr>\n",
       "    <tr>\n",
       "      <th>2331</th>\n",
       "      <td>2024-03-28</td>\n",
       "      <td>70744.953125</td>\n",
       "      <td>3561.293945</td>\n",
       "    </tr>\n",
       "    <tr>\n",
       "      <th>2332</th>\n",
       "      <td>2024-03-29</td>\n",
       "      <td>69892.828125</td>\n",
       "      <td>3511.806152</td>\n",
       "    </tr>\n",
       "    <tr>\n",
       "      <th>2333</th>\n",
       "      <td>2024-03-30</td>\n",
       "      <td>69645.304688</td>\n",
       "      <td>3507.944336</td>\n",
       "    </tr>\n",
       "    <tr>\n",
       "      <th>2334</th>\n",
       "      <td>2024-04-01</td>\n",
       "      <td>71143.296875</td>\n",
       "      <td>3625.099121</td>\n",
       "    </tr>\n",
       "  </tbody>\n",
       "</table>\n",
       "<p>2335 rows × 3 columns</p>\n",
       "</div>"
      ],
      "text/plain": [
       "           Date     Close_BTC    Close_ETH\n",
       "0    2017-11-09   7143.580078   320.884003\n",
       "1    2017-11-10   6618.140137   299.252991\n",
       "2    2017-11-11   6357.600098   314.681000\n",
       "3    2017-11-12   5950.069824   307.907990\n",
       "4    2017-11-13   6559.490234   316.716003\n",
       "...         ...           ...          ...\n",
       "2330 2024-03-27  69455.343750  3500.115234\n",
       "2331 2024-03-28  70744.953125  3561.293945\n",
       "2332 2024-03-29  69892.828125  3511.806152\n",
       "2333 2024-03-30  69645.304688  3507.944336\n",
       "2334 2024-04-01  71143.296875  3625.099121\n",
       "\n",
       "[2335 rows x 3 columns]"
      ]
     },
     "execution_count": 18,
     "metadata": {},
     "output_type": "execute_result"
    }
   ],
   "source": [
    "# Let's select only columns Date, and Adj Close for the btc dataframe, for simplicity.\n",
    "btc = btc[['Date', 'Close']]\n",
    "btc = btc.assign(Date = pd.to_datetime(btc['Date'], errors = 'coerce'))\n",
    "\n",
    "# Let's now load the ETH data.\n",
    "eth = pd.read_csv('ETH_USD.csv')\n",
    "eth = eth[['Date', 'Close']]\n",
    "eth = eth.assign(Date = pd.to_datetime(eth['Date'], errors = 'coerce'))\n",
    "\n",
    "# Merging the two dataframes:\n",
    "btc_eth = pd.merge(btc, eth, how = \"inner\", on = 'Date', suffixes = ('_BTC', '_ETH'))\n",
    "btc_eth"
   ]
  },
  {
   "cell_type": "markdown",
   "id": "89d308f3",
   "metadata": {},
   "source": [
    "## 2.9. Saving to pickle\n",
    "\n",
    "If you need to save your Python results for later usage, you can use the to_pickle method. \n",
    "This method saves the dataframe in a binary format that can be read by Python later on."
   ]
  },
  {
   "cell_type": "code",
   "execution_count": 93,
   "id": "90b65924",
   "metadata": {},
   "outputs": [],
   "source": [
    "btc_eth.to_pickle('btc_eth.pkl')\n",
    "    \n",
    "# Loading the pickle file:\n",
    "btc_eth = pd.read_pickle('btc_eth.pkl')"
   ]
  },
  {
   "cell_type": "code",
   "execution_count": 94,
   "id": "39f1c99f",
   "metadata": {},
   "outputs": [],
   "source": [
    "# When working with non-Pandas data, you can use the pickle module from Python's standard library.\n",
    "import pickle\n",
    "data = {'A': [1, 2, 3], 'B': [4, 5, 6]}\n",
    "with open('data.pkl', 'wb') as f: # 'wb' stands for write-binary\n",
    "    pickle.dump(data, f)\n",
    "    \n",
    "# Reading the pickle file:\n",
    "with open('data.pkl', 'rb') as f: # 'rb' stands for read-binary\n",
    "    data = pickle.load(f)"
   ]
  },
  {
   "cell_type": "markdown",
   "id": "bbcead8d",
   "metadata": {},
   "source": [
    "# 3. Downloading data via APIs\n"
   ]
  },
  {
   "cell_type": "markdown",
   "id": "202d6892",
   "metadata": {},
   "source": [
    "Very often as an economist you'll download data from the source via their API (application programming interface), rather than downloading the whole table as a CSV or a XLSX."
   ]
  },
  {
   "cell_type": "markdown",
   "id": "8a3974d7",
   "metadata": {},
   "source": [
    "## 3.1. Accessing the source's API"
   ]
  },
  {
   "cell_type": "markdown",
   "id": "f5d31baf",
   "metadata": {},
   "source": [
    "For example, the FRED (Federal Reserve Economic Data) API provides a Python package called fredapi."
   ]
  },
  {
   "cell_type": "code",
   "execution_count": 95,
   "id": "dc7e1160",
   "metadata": {},
   "outputs": [
    {
     "name": "stdout",
     "output_type": "stream",
     "text": [
      "Collecting fredapi\n",
      "  Downloading fredapi-0.5.1-py3-none-any.whl.metadata (5.0 kB)\n",
      "Requirement already satisfied: pandas in /Users/pedrovallocci/opt/anaconda3/lib/python3.9/site-packages (from fredapi) (2.2.0)\n",
      "Requirement already satisfied: numpy<2,>=1.22.4 in /Users/pedrovallocci/opt/anaconda3/lib/python3.9/site-packages (from pandas->fredapi) (1.22.4)\n",
      "Requirement already satisfied: python-dateutil>=2.8.2 in /Users/pedrovallocci/opt/anaconda3/lib/python3.9/site-packages (from pandas->fredapi) (2.8.2)\n",
      "Requirement already satisfied: pytz>=2020.1 in /Users/pedrovallocci/opt/anaconda3/lib/python3.9/site-packages (from pandas->fredapi) (2023.3.post1)\n",
      "Requirement already satisfied: tzdata>=2022.7 in /Users/pedrovallocci/opt/anaconda3/lib/python3.9/site-packages (from pandas->fredapi) (2023.4)\n",
      "Requirement already satisfied: six>=1.5 in /Users/pedrovallocci/opt/anaconda3/lib/python3.9/site-packages (from python-dateutil>=2.8.2->pandas->fredapi) (1.16.0)\n",
      "Downloading fredapi-0.5.1-py3-none-any.whl (11 kB)\n",
      "Installing collected packages: fredapi\n",
      "Successfully installed fredapi-0.5.1\n",
      "Note: you may need to restart the kernel to use updated packages.\n"
     ]
    }
   ],
   "source": [
    "%pip install fredapi"
   ]
  },
  {
   "cell_type": "markdown",
   "id": "9123d9c1",
   "metadata": {},
   "source": [
    "In order to download data from FRED, you need to create a key (free of charge) in their website. You can access data as follows."
   ]
  },
  {
   "cell_type": "code",
   "execution_count": 110,
   "id": "5017f1a2",
   "metadata": {},
   "outputs": [
    {
     "data": {
      "text/plain": [
       "2014-04-09    1872.18\n",
       "2014-04-10    1833.08\n",
       "2014-04-11    1815.69\n",
       "2014-04-14    1830.61\n",
       "2014-04-15    1842.98\n",
       "               ...   \n",
       "2024-04-02    5205.81\n",
       "2024-04-03    5211.49\n",
       "2024-04-04    5147.21\n",
       "2024-04-05    5204.34\n",
       "2024-04-08    5202.39\n",
       "Length: 2609, dtype: float64"
      ]
     },
     "execution_count": 110,
     "metadata": {},
     "output_type": "execute_result"
    }
   ],
   "source": [
    "# Downloading data from FRED\n",
    "from fredapi import Fred\n",
    "fred = Fred(api_key='14894135104f5e7c7b161d94fbe9ef0f')\n",
    "data = fred.get_series('SP500')\n",
    "data"
   ]
  },
  {
   "cell_type": "markdown",
   "id": "1085fb19",
   "metadata": {},
   "source": [
    "There's also a package to access Yahoo Finance: `yfinance`"
   ]
  },
  {
   "cell_type": "markdown",
   "id": "721f115b",
   "metadata": {},
   "source": [
    "## IN-CLASS:\n",
    "\n",
    "- Create an account at the FRED website \n",
    "- Open the FRED website and retrieve the data for \"Federal Debt: Total Public Debt as Percent of Gross Domestic Product\""
   ]
  },
  {
   "cell_type": "markdown",
   "id": "ba41af05",
   "metadata": {},
   "source": [
    "## 3.2. `pandas_datareader`"
   ]
  },
  {
   "cell_type": "markdown",
   "id": "63195a98",
   "metadata": {},
   "source": [
    "The maker of pandas has also authored a library called pandas_datareader that gives programmatic access to many data sources straight from the Jupyter notebook.\n",
    "\n",
    "While some sources require an access key, many of the most important (e.g., FRED, OECD, EUROSTAT and the World Bank) are free to use.\n",
    "\n",
    "Check full list of sources here: https://pandas-datareader.readthedocs.io/en/latest/remote_data.html"
   ]
  },
  {
   "cell_type": "code",
   "execution_count": 98,
   "id": "a3723525",
   "metadata": {},
   "outputs": [
    {
     "name": "stdout",
     "output_type": "stream",
     "text": [
      "Collecting pandas_datareader\n",
      "  Downloading pandas_datareader-0.10.0-py3-none-any.whl.metadata (2.9 kB)\n",
      "Requirement already satisfied: lxml in /Users/pedrovallocci/opt/anaconda3/lib/python3.9/site-packages (from pandas_datareader) (4.9.3)\n",
      "Requirement already satisfied: pandas>=0.23 in /Users/pedrovallocci/opt/anaconda3/lib/python3.9/site-packages (from pandas_datareader) (2.2.0)\n",
      "Requirement already satisfied: requests>=2.19.0 in /Users/pedrovallocci/opt/anaconda3/lib/python3.9/site-packages (from pandas_datareader) (2.31.0)\n",
      "Requirement already satisfied: numpy<2,>=1.22.4 in /Users/pedrovallocci/opt/anaconda3/lib/python3.9/site-packages (from pandas>=0.23->pandas_datareader) (1.22.4)\n",
      "Requirement already satisfied: python-dateutil>=2.8.2 in /Users/pedrovallocci/opt/anaconda3/lib/python3.9/site-packages (from pandas>=0.23->pandas_datareader) (2.8.2)\n",
      "Requirement already satisfied: pytz>=2020.1 in /Users/pedrovallocci/opt/anaconda3/lib/python3.9/site-packages (from pandas>=0.23->pandas_datareader) (2023.3.post1)\n",
      "Requirement already satisfied: tzdata>=2022.7 in /Users/pedrovallocci/opt/anaconda3/lib/python3.9/site-packages (from pandas>=0.23->pandas_datareader) (2023.4)\n",
      "Requirement already satisfied: charset-normalizer<4,>=2 in /Users/pedrovallocci/opt/anaconda3/lib/python3.9/site-packages (from requests>=2.19.0->pandas_datareader) (2.0.4)\n",
      "Requirement already satisfied: idna<4,>=2.5 in /Users/pedrovallocci/opt/anaconda3/lib/python3.9/site-packages (from requests>=2.19.0->pandas_datareader) (3.4)\n",
      "Requirement already satisfied: urllib3<3,>=1.21.1 in /Users/pedrovallocci/opt/anaconda3/lib/python3.9/site-packages (from requests>=2.19.0->pandas_datareader) (1.26.18)\n",
      "Requirement already satisfied: certifi>=2017.4.17 in /Users/pedrovallocci/opt/anaconda3/lib/python3.9/site-packages (from requests>=2.19.0->pandas_datareader) (2024.2.2)\n",
      "Requirement already satisfied: six>=1.5 in /Users/pedrovallocci/opt/anaconda3/lib/python3.9/site-packages (from python-dateutil>=2.8.2->pandas>=0.23->pandas_datareader) (1.16.0)\n",
      "Downloading pandas_datareader-0.10.0-py3-none-any.whl (109 kB)\n",
      "\u001b[2K   \u001b[90m━━━━━━━━━━━━━━━━━━━━━━━━━━━━━━━━━━━━━━━━\u001b[0m \u001b[32m109.5/109.5 kB\u001b[0m \u001b[31m3.8 MB/s\u001b[0m eta \u001b[36m0:00:00\u001b[0m\n",
      "\u001b[?25hInstalling collected packages: pandas_datareader\n",
      "Successfully installed pandas_datareader-0.10.0\n",
      "Note: you may need to restart the kernel to use updated packages.\n"
     ]
    }
   ],
   "source": [
    "%pip install pandas_datareader"
   ]
  },
  {
   "cell_type": "code",
   "execution_count": 188,
   "id": "878cdb14",
   "metadata": {},
   "outputs": [
    {
     "name": "stderr",
     "output_type": "stream",
     "text": [
      "/var/folders/82/qc43_tjd601__84ds5cl2fyw0000gn/T/ipykernel_3249/3031776497.py:2: FutureWarning: errors='ignore' is deprecated and will raise in a future version. Use to_numeric without passing `errors` and catch exceptions explicitly instead\n",
      "  govt_debt = wb.download(indicator='GC.DOD.TOTL.GD.ZS', country=['US', 'CA'], start=2005, end=2024).stack().unstack(0)\n"
     ]
    },
    {
     "data": {
      "image/png": "[encoded data removed]",
      "text/plain": [
       "<Figure size 640x480 with 1 Axes>"
      ]
     },
     "metadata": {},
     "output_type": "display_data"
    }
   ],
   "source": [
    "from pandas_datareader import wb\n",
    "govt_debt = wb.download(indicator='GC.DOD.TOTL.GD.ZS', country=['US', 'CA'], start=2005, end=2024).stack().unstack(0)\n",
    "ind = govt_debt.index.droplevel(-1)\n",
    "govt_debt.index = ind\n",
    "govt_debt = govt_debt.sort_index()\n",
    "ax = govt_debt.plot(lw=2)\n",
    "ax.set_xlabel('year', fontsize=12)\n",
    "import matplotlib.pyplot as plt\n",
    "plt.title(\"Government Debt to GDP (%)\")\n",
    "plt.show()"
   ]
  },
  {
   "cell_type": "code",
   "execution_count": 46,
   "id": "f4413289",
   "metadata": {},
   "outputs": [],
   "source": [
    "# As usual, the commands shown above are not exhaustive. There are many more things you can do with pandas.\n",
    "# Have the cheat sheet at hand as it can give you useful ideas: https://pandas.pydata.org/Pandas_Cheat_Sheet.pdf\n",
    "# I recommend you to check the official documentation: https://pandas.pydata.org/pandas-docs/stable/index.html"
   ]
  },
  {
   "cell_type": "markdown",
   "id": "b3e1cd9a",
   "metadata": {},
   "source": [
    "# 4. Numpy\n",
    "\n",
    "Numpy stands for Numerical Python. Numpy is widely used for \n",
    "scientific computing tasks because of its efficient array operations, \n",
    "mathematical functions, and capabilities for handling large datasets.\n",
    "When performing complex mathematical operations with large numeric \n",
    "datasets, loops such as `for` intuitively come up as the easiest way \n",
    "to solve problems. However, this is often a sub-optimal way to create \n",
    "your code. Consider:\n",
    "\n",
    "- Not reinventing the wheel. Check if there's a package that does what you want to do. Using the pre-packaged code is almost surely more efficient\n",
    "\n",
    "- Converting numerical operations to their matrix forms when possible and leveraging Numpy."
   ]
  },
  {
   "cell_type": "markdown",
   "id": "dc4ce0e3",
   "metadata": {},
   "source": [
    "## 4.1. Creating a Numpy array"
   ]
  },
  {
   "cell_type": "code",
   "execution_count": 165,
   "id": "7495ce73",
   "metadata": {},
   "outputs": [],
   "source": [
    "import numpy as np\n",
    "data = np.array([[1.5, -0.1, 3], [0, -3, 6.5]]) "
   ]
  },
  {
   "cell_type": "markdown",
   "id": "37ae5df2",
   "metadata": {},
   "source": [
    "## 4.2. Element-wise operations\n",
    "\n",
    "`numpy` contains a thorough set of element-wise universal functions that can be used on its arrays: E.g. `abs, sqrt, exp, log, sign, ceil, floor` etc."
   ]
  },
  {
   "cell_type": "code",
   "execution_count": 180,
   "id": "97d13070",
   "metadata": {},
   "outputs": [
    {
     "data": {
      "text/plain": [
       "array([0, 1, 2, 3, 4, 5, 6, 7, 8, 9])"
      ]
     },
     "execution_count": 180,
     "metadata": {},
     "output_type": "execute_result"
    }
   ],
   "source": [
    "arr = np.arange(10)\n",
    "arr"
   ]
  },
  {
   "cell_type": "code",
   "execution_count": 181,
   "id": "e468ba44",
   "metadata": {},
   "outputs": [
    {
     "data": {
      "text/plain": [
       "array([ 0,  2,  4,  6,  8, 10, 12, 14, 16, 18])"
      ]
     },
     "execution_count": 181,
     "metadata": {},
     "output_type": "execute_result"
    }
   ],
   "source": [
    "arr+arr"
   ]
  },
  {
   "cell_type": "code",
   "execution_count": 178,
   "id": "fcd4d6cb",
   "metadata": {},
   "outputs": [
    {
     "data": {
      "text/plain": [
       "array([0.        , 0.69314718, 1.09861229, 1.38629436, 1.60943791,\n",
       "       1.79175947, 1.94591015, 2.07944154, 2.19722458, 2.30258509])"
      ]
     },
     "execution_count": 178,
     "metadata": {},
     "output_type": "execute_result"
    }
   ],
   "source": [
    "np.log(1+arr)"
   ]
  },
  {
   "cell_type": "markdown",
   "id": "e7fe13ab",
   "metadata": {},
   "source": [
    "## 4.3. Matricial operations\n",
    "\n",
    "The most sophisticated operations are implemented in Numpy. Below, a very short subset of Numpy's capabilities."
   ]
  },
  {
   "cell_type": "code",
   "execution_count": null,
   "id": "d6d465cf",
   "metadata": {},
   "outputs": [
    {
     "data": {
      "text/plain": [
       "array([0, 1, 2, 3, 4, 5, 6, 7, 8, 9])"
      ]
     },
     "metadata": {},
     "output_type": "display_data"
    }
   ],
   "source": [
    "np.arange(10)"
   ]
  },
  {
   "cell_type": "code",
   "execution_count": 168,
   "id": "f5a30c75",
   "metadata": {},
   "outputs": [
    {
     "data": {
      "text/plain": [
       "array([[ 0,  1,  2,  3,  4],\n",
       "       [ 5,  6,  7,  8,  9],\n",
       "       [10, 11, 12, 13, 14]])"
      ]
     },
     "execution_count": 168,
     "metadata": {},
     "output_type": "execute_result"
    }
   ],
   "source": [
    "arr = np.arange(15).reshape(3, 5)\n",
    "arr"
   ]
  },
  {
   "cell_type": "markdown",
   "id": "c295b76e",
   "metadata": {},
   "source": [
    "Transposing"
   ]
  },
  {
   "cell_type": "code",
   "execution_count": 169,
   "id": "a379cf25",
   "metadata": {},
   "outputs": [
    {
     "data": {
      "text/plain": [
       "array([[ 0,  5, 10],\n",
       "       [ 1,  6, 11],\n",
       "       [ 2,  7, 12],\n",
       "       [ 3,  8, 13],\n",
       "       [ 4,  9, 14]])"
      ]
     },
     "execution_count": 169,
     "metadata": {},
     "output_type": "execute_result"
    }
   ],
   "source": [
    "arr.T"
   ]
  },
  {
   "cell_type": "markdown",
   "id": "1a110f04",
   "metadata": {},
   "source": [
    "Matrix multiplication:"
   ]
  },
  {
   "cell_type": "code",
   "execution_count": 170,
   "id": "85e60fae",
   "metadata": {},
   "outputs": [
    {
     "data": {
      "text/plain": [
       "array([[ 30,  80, 130],\n",
       "       [ 80, 255, 430],\n",
       "       [130, 430, 730]])"
      ]
     },
     "execution_count": 170,
     "metadata": {},
     "output_type": "execute_result"
    }
   ],
   "source": [
    "arr @ arr.T"
   ]
  },
  {
   "cell_type": "markdown",
   "id": "6514df7b",
   "metadata": {},
   "source": [
    "Eigenvalues:"
   ]
  },
  {
   "cell_type": "code",
   "execution_count": 172,
   "id": "03d56a82",
   "metadata": {},
   "outputs": [
    {
     "data": {
      "text/plain": [
       "array([5., 2.])"
      ]
     },
     "execution_count": 172,
     "metadata": {},
     "output_type": "execute_result"
    }
   ],
   "source": [
    "A = np.array([[4, 1],\n",
    "              [2, 3]])\n",
    "eigenvalues = np.linalg.eigvals(A)\n",
    "eigenvalues"
   ]
  },
  {
   "cell_type": "markdown",
   "id": "1f2c8a4f",
   "metadata": {},
   "source": [
    "## 4.4. Pseudorandom number generation\n",
    "\n",
    "The `numpy.random` module supplements the built-in Python `random` module with functions for efficiently generating whole arrays of sample values from many kinds of probability distributions. For example, you can get a 4 × 4 array of samples from the standard normal distribution using `numpy.random.standard_normal`:"
   ]
  },
  {
   "cell_type": "code",
   "execution_count": 175,
   "id": "ebd8b850",
   "metadata": {},
   "outputs": [
    {
     "data": {
      "text/plain": [
       "array([[-1.42382504,  1.26372846, -0.87066174, -0.25917323],\n",
       "       [-0.07534331, -0.74088465, -1.3677927 ,  0.6488928 ],\n",
       "       [ 0.36105811, -1.95286306,  2.34740965,  0.96849691],\n",
       "       [-0.75938718,  0.90219827, -0.46695317, -0.06068952]])"
      ]
     },
     "execution_count": 175,
     "metadata": {},
     "output_type": "execute_result"
    }
   ],
   "source": [
    "rng = np.random.default_rng(seed=12345)\n",
    "samples = rng.standard_normal(size=(4, 4))\n",
    "samples"
   ]
  },
  {
   "cell_type": "markdown",
   "id": "cb4c9b1b",
   "metadata": {},
   "source": [
    "These random numbers are not truly random (rather, pseudorandom) but instead are generated by a configurable random number generator that determines deterministically what values are created. Functions like `numpy.random.standard_normal` use the `numpy.random` module’s default random number generator, but your code can be configured to use an explicit generator.\n",
    "\n",
    "Python’s built-in `random` module, by contrast, samples only one value at a time. `numpy.random` is well over an order of magnitude faster for generating very large samples."
   ]
  }
 ],
 "metadata": {
  "kernelspec": {
   "display_name": "Python 3 (ipykernel)",
   "language": "python",
   "name": "python3"
  },
  "language_info": {
   "codemirror_mode": {
    "name": "ipython",
    "version": 3
   },
   "file_extension": ".py",
   "mimetype": "text/x-python",
   "name": "python",
   "nbconvert_exporter": "python",
   "pygments_lexer": "ipython3",
   "version": "3.11.0"
  }
 },
 "nbformat": 4,
 "nbformat_minor": 5
}
